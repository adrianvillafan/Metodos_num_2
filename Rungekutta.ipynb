{
 "cells": [
  {
   "cell_type": "code",
   "execution_count": 66,
   "metadata": {},
   "outputs": [
    {
     "data": {
      "text/latex": [
       "Declaramos datos del ejercicio"
      ],
      "text/plain": [
       "<IPython.core.display.Latex object>"
      ]
     },
     "metadata": {},
     "output_type": "display_data"
    },
    {
     "data": {
      "text/latex": [
       "$\\displaystyle f{\\left(t,y \\right)} = - \\frac{2 y}{t + 200} + 1$"
      ],
      "text/plain": [
       "Eq(f(t, y), -2*y/(t + 200) + 1)"
      ]
     },
     "metadata": {},
     "output_type": "display_data"
    },
    {
     "data": {
      "text/latex": [
       "$\\displaystyle h = 6.25$"
      ],
      "text/plain": [
       "Eq(h, 6.25)"
      ]
     },
     "metadata": {},
     "output_type": "display_data"
    },
    {
     "data": {
      "text/latex": [
       "$\\displaystyle y_{0} = 50$"
      ],
      "text/plain": [
       "Eq(y0, 50)"
      ]
     },
     "metadata": {},
     "output_type": "display_data"
    },
    {
     "data": {
      "text/latex": [
       "$\\displaystyle t_{0} = 0$"
      ],
      "text/plain": [
       "Eq(t0, 0)"
      ]
     },
     "metadata": {},
     "output_type": "display_data"
    },
    {
     "data": {
      "text/latex": [
       "$\\displaystyle t_{f} = 100$"
      ],
      "text/plain": [
       "Eq(t_f, 100)"
      ]
     },
     "metadata": {},
     "output_type": "display_data"
    }
   ],
   "source": [
    "from IPython.display import display , Latex\n",
    "from sympy import *\n",
    "y , t  = symbols('y t')\n",
    "f = Function('f')\n",
    "f = 1-(2*y/(t+200)) #Valor de y'\n",
    "h = 100/16 #valor de h respecto a 100 minutos\n",
    "y0 = 50 #valor inicial de y\n",
    "t0 = 0 #valor inicial de t\n",
    "tf = 100 #valor final de t\n",
    "display(Latex('Declaramos datos del ejercicio'))\n",
    "display(Eq(S('f(t,y)'),f) , Eq(S('h'),h) , Eq(S('y0'),y0), Eq(S('t0'),t0), Eq(S('t_f'),tf))"
   ]
  },
  {
   "cell_type": "code",
   "execution_count": 67,
   "metadata": {},
   "outputs": [
    {
     "data": {
      "text/latex": [
       "Definimos los valores que tendrá $t_i$"
      ],
      "text/plain": [
       "<IPython.core.display.Latex object>"
      ]
     },
     "metadata": {},
     "output_type": "display_data"
    },
    {
     "data": {
      "text/latex": [
       "$\\displaystyle t_{0} = 0$"
      ],
      "text/plain": [
       "Eq(t0, 0)"
      ]
     },
     "metadata": {},
     "output_type": "display_data"
    },
    {
     "data": {
      "text/latex": [
       "$\\displaystyle t_{1} = 6.25$"
      ],
      "text/plain": [
       "Eq(t1, 6.25)"
      ]
     },
     "metadata": {},
     "output_type": "display_data"
    },
    {
     "data": {
      "text/latex": [
       "$\\displaystyle t_{2} = 12.5$"
      ],
      "text/plain": [
       "Eq(t2, 12.5)"
      ]
     },
     "metadata": {},
     "output_type": "display_data"
    },
    {
     "data": {
      "text/latex": [
       "$\\displaystyle t_{3} = 18.75$"
      ],
      "text/plain": [
       "Eq(t3, 18.75)"
      ]
     },
     "metadata": {},
     "output_type": "display_data"
    },
    {
     "data": {
      "text/latex": [
       "$\\displaystyle t_{4} = 25.0$"
      ],
      "text/plain": [
       "Eq(t4, 25.0)"
      ]
     },
     "metadata": {},
     "output_type": "display_data"
    },
    {
     "data": {
      "text/latex": [
       "$\\displaystyle t_{5} = 31.25$"
      ],
      "text/plain": [
       "Eq(t5, 31.25)"
      ]
     },
     "metadata": {},
     "output_type": "display_data"
    },
    {
     "data": {
      "text/latex": [
       "$\\displaystyle t_{6} = 37.5$"
      ],
      "text/plain": [
       "Eq(t6, 37.5)"
      ]
     },
     "metadata": {},
     "output_type": "display_data"
    },
    {
     "data": {
      "text/latex": [
       "$\\displaystyle t_{7} = 43.75$"
      ],
      "text/plain": [
       "Eq(t7, 43.75)"
      ]
     },
     "metadata": {},
     "output_type": "display_data"
    },
    {
     "data": {
      "text/latex": [
       "$\\displaystyle t_{8} = 50.0$"
      ],
      "text/plain": [
       "Eq(t8, 50.0)"
      ]
     },
     "metadata": {},
     "output_type": "display_data"
    },
    {
     "data": {
      "text/latex": [
       "$\\displaystyle t_{9} = 56.25$"
      ],
      "text/plain": [
       "Eq(t9, 56.25)"
      ]
     },
     "metadata": {},
     "output_type": "display_data"
    },
    {
     "data": {
      "text/latex": [
       "$\\displaystyle t_{10} = 62.5$"
      ],
      "text/plain": [
       "Eq(t10, 62.5)"
      ]
     },
     "metadata": {},
     "output_type": "display_data"
    },
    {
     "data": {
      "text/latex": [
       "$\\displaystyle t_{11} = 68.75$"
      ],
      "text/plain": [
       "Eq(t11, 68.75)"
      ]
     },
     "metadata": {},
     "output_type": "display_data"
    },
    {
     "data": {
      "text/latex": [
       "$\\displaystyle t_{12} = 75.0$"
      ],
      "text/plain": [
       "Eq(t12, 75.0)"
      ]
     },
     "metadata": {},
     "output_type": "display_data"
    },
    {
     "data": {
      "text/latex": [
       "$\\displaystyle t_{13} = 81.25$"
      ],
      "text/plain": [
       "Eq(t13, 81.25)"
      ]
     },
     "metadata": {},
     "output_type": "display_data"
    },
    {
     "data": {
      "text/latex": [
       "$\\displaystyle t_{14} = 87.5$"
      ],
      "text/plain": [
       "Eq(t14, 87.5)"
      ]
     },
     "metadata": {},
     "output_type": "display_data"
    },
    {
     "data": {
      "text/latex": [
       "$\\displaystyle t_{15} = 93.75$"
      ],
      "text/plain": [
       "Eq(t15, 93.75)"
      ]
     },
     "metadata": {},
     "output_type": "display_data"
    },
    {
     "data": {
      "text/latex": [
       "$\\displaystyle t_{16} = 100.0$"
      ],
      "text/plain": [
       "Eq(t16, 100.0)"
      ]
     },
     "metadata": {},
     "output_type": "display_data"
    }
   ],
   "source": [
    "ti=[t0]\n",
    "display(Latex('Definimos los valores que tendrá $t_i$'))\n",
    "ex=(tf/h)\n",
    "for i in range(0,int(ex)):\n",
    "      res = ti[i]+h\n",
    "      ti.append(res)\n",
    "      r= str(i)\n",
    "      s = str('t'+r)\n",
    "      display(Eq(S(s),ti[i]))\n",
    "jh= 't'+str(len(ti)-1)\n",
    "display(Eq(S(jh),ti[-1]))"
   ]
  },
  {
   "cell_type": "code",
   "execution_count": 68,
   "metadata": {},
   "outputs": [
    {
     "data": {
      "text/latex": [
       "Método de Runge Kutta de orden 4:"
      ],
      "text/plain": [
       "<IPython.core.display.Latex object>"
      ]
     },
     "metadata": {},
     "output_type": "display_data"
    },
    {
     "data": {
      "text/latex": [
       "Iteración número: 1"
      ],
      "text/plain": [
       "<IPython.core.display.Latex object>"
      ]
     },
     "metadata": {},
     "output_type": "display_data"
    },
    {
     "data": {
      "text/latex": [
       "$k_{1}=h \\cdot f(t,y)={- \\frac{12.5 y}{t + 200} + 6.25}={3.125}$"
      ],
      "text/plain": [
       "<IPython.core.display.Latex object>"
      ]
     },
     "metadata": {},
     "output_type": "display_data"
    },
    {
     "data": {
      "text/latex": [
       "$k_{2}=h \\cdot f(x+\\dfrac{h}{2},y+\\dfrac{k_{1}}{2})={6.25 - \\frac{12.5 \\left(y - \\frac{6.25 y}{t + 200} + 3.125\\right)}{t + 203.125}}={3.07692307692308}$"
      ],
      "text/plain": [
       "<IPython.core.display.Latex object>"
      ]
     },
     "metadata": {},
     "output_type": "display_data"
    },
    {
     "data": {
      "text/latex": [
       "$k_{3}=h \\cdot f(x+\\dfrac{h}{2},y+\\dfrac{k_{2}}{2} )={6.25 - \\frac{12.5 \\left(y + 3.125 - \\frac{6.25 \\left(y - \\frac{6.25 y}{t + 200} + 3.125\\right)}{t + 203.125}\\right)}{t + 203.125}}={3.07840236686391}$"
      ],
      "text/plain": [
       "<IPython.core.display.Latex object>"
      ]
     },
     "metadata": {},
     "output_type": "display_data"
    },
    {
     "data": {
      "text/latex": [
       "$k_{4}=h \\cdot f(x+{h},y+{k_{3}})={6.25 - \\frac{12.5 \\left(y + 6.25 - \\frac{12.5 \\left(y + 3.125 - \\frac{6.25 \\left(y - \\frac{6.25 y}{t + 200} + 3.125\\right)}{t + 203.125}\\right)}{t + 203.125}\\right)}{t + 206.25}}={3.03312712928098}$"
      ],
      "text/plain": [
       "<IPython.core.display.Latex object>"
      ]
     },
     "metadata": {},
     "output_type": "display_data"
    },
    {
     "data": {
      "text/latex": [
       "$y_{1}=y_{0}+ \\dfrac{1}{6}[k_{1}+2k_{2}+2k_{3}+k_{4}]$"
      ],
      "text/plain": [
       "<IPython.core.display.Latex object>"
      ]
     },
     "metadata": {},
     "output_type": "display_data"
    },
    {
     "data": {
      "text/latex": [
       "$y_{1}=50+ \\dfrac{1}{6}[3.125+2 \\cdot3.07692307692308+2 \\cdot3.07840236686391+3.03312712928098]$"
      ],
      "text/plain": [
       "<IPython.core.display.Latex object>"
      ]
     },
     "metadata": {},
     "output_type": "display_data"
    },
    {
     "data": {
      "text/latex": [
       "$\\displaystyle y_{1} = 53.0781296694758$"
      ],
      "text/plain": [
       "Eq(y1, 53.0781296694758)"
      ]
     },
     "metadata": {},
     "output_type": "display_data"
    },
    {
     "data": {
      "text/latex": [
       "Iteración número: 2"
      ],
      "text/plain": [
       "<IPython.core.display.Latex object>"
      ]
     },
     "metadata": {},
     "output_type": "display_data"
    },
    {
     "data": {
      "text/latex": [
       "$k_{1}=h \\cdot f(t,y)={- \\frac{12.5 y}{t + 200} + 6.25}={3.0331436563954}$"
      ],
      "text/plain": [
       "<IPython.core.display.Latex object>"
      ]
     },
     "metadata": {},
     "output_type": "display_data"
    },
    {
     "data": {
      "text/latex": [
       "$k_{2}=h \\cdot f(x+\\dfrac{h}{2},y+\\dfrac{k_{1}}{2})={6.25 - \\frac{12.5 \\left(y - \\frac{6.25 y}{t + 200} + 3.125\\right)}{t + 203.125}}={2.99061483595979}$"
      ],
      "text/plain": [
       "<IPython.core.display.Latex object>"
      ]
     },
     "metadata": {},
     "output_type": "display_data"
    },
    {
     "data": {
      "text/latex": [
       "$k_{3}=h \\cdot f(x+\\dfrac{h}{2},y+\\dfrac{k_{2}}{2} )={6.25 - \\frac{12.5 \\left(y + 3.125 - \\frac{6.25 \\left(y - \\frac{6.25 y}{t + 200} + 3.125\\right)}{t + 203.125}\\right)}{t + 203.125}}={2.99188435298772}$"
      ],
      "text/plain": [
       "<IPython.core.display.Latex object>"
      ]
     },
     "metadata": {},
     "output_type": "display_data"
    },
    {
     "data": {
      "text/latex": [
       "$k_{4}=h \\cdot f(x+{h},y+{k_{3}})={6.25 - \\frac{12.5 \\left(y + 6.25 - \\frac{12.5 \\left(y + 3.125 - \\frac{6.25 \\left(y - \\frac{6.25 y}{t + 200} + 3.125\\right)}{t + 203.125}\\right)}{t + 203.125}\\right)}{t + 206.25}}={2.95176388103156}$"
      ],
      "text/plain": [
       "<IPython.core.display.Latex object>"
      ]
     },
     "metadata": {},
     "output_type": "display_data"
    },
    {
     "data": {
      "text/latex": [
       "$y_{2}=y_{1}+ \\dfrac{1}{6}[k_{1}+2k_{2}+2k_{3}+k_{4}]$"
      ],
      "text/plain": [
       "<IPython.core.display.Latex object>"
      ]
     },
     "metadata": {},
     "output_type": "display_data"
    },
    {
     "data": {
      "text/latex": [
       "$y_{2}=50+ \\dfrac{1}{6}[3.0331436563954+2 \\cdot2.99061483595979+2 \\cdot2.99188435298772+2.95176388103156]$"
      ],
      "text/plain": [
       "<IPython.core.display.Latex object>"
      ]
     },
     "metadata": {},
     "output_type": "display_data"
    },
    {
     "data": {
      "text/latex": [
       "$\\displaystyle y_{2} = 56.0697806553628$"
      ],
      "text/plain": [
       "Eq(y2, 56.0697806553628)"
      ]
     },
     "metadata": {},
     "output_type": "display_data"
    },
    {
     "data": {
      "text/latex": [
       "Iteración número: 3"
      ],
      "text/plain": [
       "<IPython.core.display.Latex object>"
      ]
     },
     "metadata": {},
     "output_type": "display_data"
    },
    {
     "data": {
      "text/latex": [
       "$k_{1}=h \\cdot f(t,y)={- \\frac{12.5 y}{t + 200} + 6.25}={2.95177760850807}$"
      ],
      "text/plain": [
       "<IPython.core.display.Latex object>"
      ]
     },
     "metadata": {},
     "output_type": "display_data"
    },
    {
     "data": {
      "text/latex": [
       "$k_{2}=h \\cdot f(x+\\dfrac{h}{2},y+\\dfrac{k_{1}}{2})={6.25 - \\frac{12.5 \\left(y - \\frac{6.25 y}{t + 200} + 3.125\\right)}{t + 203.125}}={2.91401916176134}$"
      ],
      "text/plain": [
       "<IPython.core.display.Latex object>"
      ]
     },
     "metadata": {},
     "output_type": "display_data"
    },
    {
     "data": {
      "text/latex": [
       "$k_{3}=h \\cdot f(x+\\dfrac{h}{2},y+\\dfrac{k_{2}}{2} )={6.25 - \\frac{12.5 \\left(y + 3.125 - \\frac{6.25 \\left(y - \\frac{6.25 y}{t + 200} + 3.125\\right)}{t + 203.125}\\right)}{t + 203.125}}={2.91511360949313}$"
      ],
      "text/plain": [
       "<IPython.core.display.Latex object>"
      ]
     },
     "metadata": {},
     "output_type": "display_data"
    },
    {
     "data": {
      "text/latex": [
       "$k_{4}=h \\cdot f(x+{h},y+{k_{3}})={6.25 - \\frac{12.5 \\left(y + 6.25 - \\frac{12.5 \\left(y + 3.125 - \\frac{6.25 \\left(y - \\frac{6.25 y}{t + 200} + 3.125\\right)}{t + 203.125}\\right)}{t + 203.125}\\right)}{t + 206.25}}={2.8794346134368}$"
      ],
      "text/plain": [
       "<IPython.core.display.Latex object>"
      ]
     },
     "metadata": {},
     "output_type": "display_data"
    },
    {
     "data": {
      "text/latex": [
       "$y_{3}=y_{2}+ \\dfrac{1}{6}[k_{1}+2k_{2}+2k_{3}+k_{4}]$"
      ],
      "text/plain": [
       "<IPython.core.display.Latex object>"
      ]
     },
     "metadata": {},
     "output_type": "display_data"
    },
    {
     "data": {
      "text/latex": [
       "$y_{3}=50+ \\dfrac{1}{6}[2.95177760850807+2 \\cdot2.91401916176134+2 \\cdot2.91511360949313+2.8794346134368]$"
      ],
      "text/plain": [
       "<IPython.core.display.Latex object>"
      ]
     },
     "metadata": {},
     "output_type": "display_data"
    },
    {
     "data": {
      "text/latex": [
       "$\\displaystyle y_{3} = 58.9846936161051$"
      ],
      "text/plain": [
       "Eq(y3, 58.9846936161051)"
      ]
     },
     "metadata": {},
     "output_type": "display_data"
    },
    {
     "data": {
      "text/latex": [
       "Iteración número: 4"
      ],
      "text/plain": [
       "<IPython.core.display.Latex object>"
      ]
     },
     "metadata": {},
     "output_type": "display_data"
    },
    {
     "data": {
      "text/latex": [
       "$k_{1}=h \\cdot f(t,y)={- \\frac{12.5 y}{t + 200} + 6.25}={2.87944607907971}$"
      ],
      "text/plain": [
       "<IPython.core.display.Latex object>"
      ]
     },
     "metadata": {},
     "output_type": "display_data"
    },
    {
     "data": {
      "text/latex": [
       "$k_{2}=h \\cdot f(x+\\dfrac{h}{2},y+\\dfrac{k_{1}}{2})={6.25 - \\frac{12.5 \\left(y - \\frac{6.25 y}{t + 200} + 3.125\\right)}{t + 203.125}}={2.84580751235803}$"
      ],
      "text/plain": [
       "<IPython.core.display.Latex object>"
      ]
     },
     "metadata": {},
     "output_type": "display_data"
    },
    {
     "data": {
      "text/latex": [
       "$k_{3}=h \\cdot f(x+\\dfrac{h}{2},y+\\dfrac{k_{2}}{2} )={6.25 - \\frac{12.5 \\left(y + 3.125 - \\frac{6.25 \\left(y - \\frac{6.25 y}{t + 200} + 3.125\\right)}{t + 203.125}\\right)}{t + 203.125}}={2.84675507761779}$"
      ],
      "text/plain": [
       "<IPython.core.display.Latex object>"
      ]
     },
     "metadata": {},
     "output_type": "display_data"
    },
    {
     "data": {
      "text/latex": [
       "$k_{4}=h \\cdot f(x+{h},y+{k_{3}})={6.25 - \\frac{12.5 \\left(y + 6.25 - \\frac{12.5 \\left(y + 3.125 - \\frac{6.25 \\left(y - \\frac{6.25 y}{t + 200} + 3.125\\right)}{t + 203.125}\\right)}{t + 203.125}\\right)}{t + 206.25}}={2.81491951701539}$"
      ],
      "text/plain": [
       "<IPython.core.display.Latex object>"
      ]
     },
     "metadata": {},
     "output_type": "display_data"
    },
    {
     "data": {
      "text/latex": [
       "$y_{4}=y_{3}+ \\dfrac{1}{6}[k_{1}+2k_{2}+2k_{3}+k_{4}]$"
      ],
      "text/plain": [
       "<IPython.core.display.Latex object>"
      ]
     },
     "metadata": {},
     "output_type": "display_data"
    },
    {
     "data": {
      "text/latex": [
       "$y_{4}=50+ \\dfrac{1}{6}[2.87944607907971+2 \\cdot2.84580751235803+2 \\cdot2.84675507761779+2.81491951701539]$"
      ],
      "text/plain": [
       "<IPython.core.display.Latex object>"
      ]
     },
     "metadata": {},
     "output_type": "display_data"
    },
    {
     "data": {
      "text/latex": [
       "$\\displaystyle y_{4} = 61.8312754121129$"
      ],
      "text/plain": [
       "Eq(y4, 61.8312754121129)"
      ]
     },
     "metadata": {},
     "output_type": "display_data"
    },
    {
     "data": {
      "text/latex": [
       "Iteración número: 5"
      ],
      "text/plain": [
       "<IPython.core.display.Latex object>"
      ]
     },
     "metadata": {},
     "output_type": "display_data"
    },
    {
     "data": {
      "text/latex": [
       "$k_{1}=h \\cdot f(t,y)={- \\frac{12.5 y}{t + 200} + 6.25}={2.8149291437715}$"
      ],
      "text/plain": [
       "<IPython.core.display.Latex object>"
      ]
     },
     "metadata": {},
     "output_type": "display_data"
    },
    {
     "data": {
      "text/latex": [
       "$k_{2}=h \\cdot f(x+\\dfrac{h}{2},y+\\dfrac{k_{1}}{2})={6.25 - \\frac{12.5 \\left(y - \\frac{6.25 y}{t + 200} + 3.125\\right)}{t + 203.125}}={2.78486356252062}$"
      ],
      "text/plain": [
       "<IPython.core.display.Latex object>"
      ]
     },
     "metadata": {},
     "output_type": "display_data"
    },
    {
     "data": {
      "text/latex": [
       "$k_{3}=h \\cdot f(x+\\dfrac{h}{2},y+\\dfrac{k_{2}}{2} )={6.25 - \\frac{12.5 \\left(y + 3.125 - \\frac{6.25 \\left(y - \\frac{6.25 y}{t + 200} + 3.125\\right)}{t + 203.125}\\right)}{t + 203.125}}={2.78568727707544}$"
      ],
      "text/plain": [
       "<IPython.core.display.Latex object>"
      ]
     },
     "metadata": {},
     "output_type": "display_data"
    },
    {
     "data": {
      "text/latex": [
       "$k_{4}=h \\cdot f(x+{h},y+{k_{3}})={6.25 - \\frac{12.5 \\left(y + 6.25 - \\frac{12.5 \\left(y + 3.125 - \\frac{6.25 \\left(y - \\frac{6.25 y}{t + 200} + 3.125\\right)}{t + 203.125}\\right)}{t + 203.125}\\right)}{t + 206.25}}={2.75719120598982}$"
      ],
      "text/plain": [
       "<IPython.core.display.Latex object>"
      ]
     },
     "metadata": {},
     "output_type": "display_data"
    },
    {
     "data": {
      "text/latex": [
       "$y_{5}=y_{4}+ \\dfrac{1}{6}[k_{1}+2k_{2}+2k_{3}+k_{4}]$"
      ],
      "text/plain": [
       "<IPython.core.display.Latex object>"
      ]
     },
     "metadata": {},
     "output_type": "display_data"
    },
    {
     "data": {
      "text/latex": [
       "$y_{5}=50+ \\dfrac{1}{6}[2.8149291437715+2 \\cdot2.78486356252062+2 \\cdot2.78568727707544+2.75719120598982]$"
      ],
      "text/plain": [
       "<IPython.core.display.Latex object>"
      ]
     },
     "metadata": {},
     "output_type": "display_data"
    },
    {
     "data": {
      "text/latex": [
       "$\\displaystyle y_{5} = 64.6168124169385$"
      ],
      "text/plain": [
       "Eq(y5, 64.6168124169385)"
      ]
     },
     "metadata": {},
     "output_type": "display_data"
    },
    {
     "data": {
      "text/latex": [
       "Iteración número: 6"
      ],
      "text/plain": [
       "<IPython.core.display.Latex object>"
      ]
     },
     "metadata": {},
     "output_type": "display_data"
    },
    {
     "data": {
      "text/latex": [
       "$k_{1}=h \\cdot f(t,y)={- \\frac{12.5 y}{t + 200} + 6.25}={2.75719932881414}$"
      ],
      "text/plain": [
       "<IPython.core.display.Latex object>"
      ]
     },
     "metadata": {},
     "output_type": "display_data"
    },
    {
     "data": {
      "text/latex": [
       "$k_{2}=h \\cdot f(x+\\dfrac{h}{2},y+\\dfrac{k_{1}}{2})={6.25 - \\frac{12.5 \\left(y - \\frac{6.25 y}{t + 200} + 3.125\\right)}{t + 203.125}}={2.7302446889949}$"
      ],
      "text/plain": [
       "<IPython.core.display.Latex object>"
      ]
     },
     "metadata": {},
     "output_type": "display_data"
    },
    {
     "data": {
      "text/latex": [
       "$k_{3}=h \\cdot f(x+\\dfrac{h}{2},y+\\dfrac{k_{2}}{2} )={6.25 - \\frac{12.5 \\left(y + 3.125 - \\frac{6.25 \\left(y - \\frac{6.25 y}{t + 200} + 3.125\\right)}{t + 203.125}\\right)}{t + 203.125}}={2.73096347939008}$"
      ],
      "text/plain": [
       "<IPython.core.display.Latex object>"
      ]
     },
     "metadata": {},
     "output_type": "display_data"
    },
    {
     "data": {
      "text/latex": [
       "$k_{4}=h \\cdot f(x+{h},y+{k_{3}})={6.25 - \\frac{12.5 \\left(y + 6.25 - \\frac{12.5 \\left(y + 3.125 - \\frac{6.25 \\left(y - \\frac{6.25 y}{t + 200} + 3.125\\right)}{t + 203.125}\\right)}{t + 203.125}\\right)}{t + 206.25}}={2.70538021598271}$"
      ],
      "text/plain": [
       "<IPython.core.display.Latex object>"
      ]
     },
     "metadata": {},
     "output_type": "display_data"
    },
    {
     "data": {
      "text/latex": [
       "$y_{6}=y_{5}+ \\dfrac{1}{6}[k_{1}+2k_{2}+2k_{3}+k_{4}]$"
      ],
      "text/plain": [
       "<IPython.core.display.Latex object>"
      ]
     },
     "metadata": {},
     "output_type": "display_data"
    },
    {
     "data": {
      "text/latex": [
       "$y_{6}=50+ \\dfrac{1}{6}[2.75719932881414+2 \\cdot2.7302446889949+2 \\cdot2.73096347939008+2.70538021598271]$"
      ],
      "text/plain": [
       "<IPython.core.display.Latex object>"
      ]
     },
     "metadata": {},
     "output_type": "display_data"
    },
    {
     "data": {
      "text/latex": [
       "$\\displaystyle y_{6} = 67.3476450638663$"
      ],
      "text/plain": [
       "Eq(y6, 67.3476450638663)"
      ]
     },
     "metadata": {},
     "output_type": "display_data"
    },
    {
     "data": {
      "text/latex": [
       "Iteración número: 7"
      ],
      "text/plain": [
       "<IPython.core.display.Latex object>"
      ]
     },
     "metadata": {},
     "output_type": "display_data"
    },
    {
     "data": {
      "text/latex": [
       "$k_{1}=h \\cdot f(t,y)={- \\frac{12.5 y}{t + 200} + 6.25}={2.70538710190177}$"
      ],
      "text/plain": [
       "<IPython.core.display.Latex object>"
      ]
     },
     "metadata": {},
     "output_type": "display_data"
    },
    {
     "data": {
      "text/latex": [
       "$k_{2}=h \\cdot f(x+\\dfrac{h}{2},y+\\dfrac{k_{1}}{2})={6.25 - \\frac{12.5 \\left(y - \\frac{6.25 y}{t + 200} + 3.125\\right)}{t + 203.125}}={2.68115124078872}$"
      ],
      "text/plain": [
       "<IPython.core.display.Latex object>"
      ]
     },
     "metadata": {},
     "output_type": "display_data"
    },
    {
     "data": {
      "text/latex": [
       "$k_{3}=h \\cdot f(x+\\dfrac{h}{2},y+\\dfrac{k_{2}}{2} )={6.25 - \\frac{12.5 \\left(y + 3.125 - \\frac{6.25 \\left(y - \\frac{6.25 y}{t + 200} + 3.125\\right)}{t + 203.125}\\right)}{t + 203.125}}={2.68178074367477}$"
      ],
      "text/plain": [
       "<IPython.core.display.Latex object>"
      ]
     },
     "metadata": {},
     "output_type": "display_data"
    },
    {
     "data": {
      "text/latex": [
       "$k_{4}=h \\cdot f(x+{h},y+{k_{3}})={6.25 - \\frac{12.5 \\left(y + 6.25 - \\frac{12.5 \\left(y + 3.125 - \\frac{6.25 \\left(y - \\frac{6.25 y}{t + 200} + 3.125\\right)}{t + 203.125}\\right)}{t + 203.125}\\right)}{t + 206.25}}={2.65874739448507}$"
      ],
      "text/plain": [
       "<IPython.core.display.Latex object>"
      ]
     },
     "metadata": {},
     "output_type": "display_data"
    },
    {
     "data": {
      "text/latex": [
       "$y_{7}=y_{6}+ \\dfrac{1}{6}[k_{1}+2k_{2}+2k_{3}+k_{4}]$"
      ],
      "text/plain": [
       "<IPython.core.display.Latex object>"
      ]
     },
     "metadata": {},
     "output_type": "display_data"
    },
    {
     "data": {
      "text/latex": [
       "$y_{7}=50+ \\dfrac{1}{6}[2.70538710190177+2 \\cdot2.68115124078872+2 \\cdot2.68178074367477+2.65874739448507]$"
      ],
      "text/plain": [
       "<IPython.core.display.Latex object>"
      ]
     },
     "metadata": {},
     "output_type": "display_data"
    },
    {
     "data": {
      "text/latex": [
       "$\\displaystyle y_{7} = 70.0293114747519$"
      ],
      "text/plain": [
       "Eq(y7, 70.0293114747519)"
      ]
     },
     "metadata": {},
     "output_type": "display_data"
    },
    {
     "data": {
      "text/latex": [
       "Iteración número: 8"
      ],
      "text/plain": [
       "<IPython.core.display.Latex object>"
      ]
     },
     "metadata": {},
     "output_type": "display_data"
    },
    {
     "data": {
      "text/latex": [
       "$k_{1}=h \\cdot f(t,y)={- \\frac{12.5 y}{t + 200} + 6.25}={2.65875325770503}$"
      ],
      "text/plain": [
       "<IPython.core.display.Latex object>"
      ]
     },
     "metadata": {},
     "output_type": "display_data"
    },
    {
     "data": {
      "text/latex": [
       "$k_{2}=h \\cdot f(x+\\dfrac{h}{2},y+\\dfrac{k_{1}}{2})={6.25 - \\frac{12.5 \\left(y - \\frac{6.25 y}{t + 200} + 3.125\\right)}{t + 203.125}}={2.63690186817193}$"
      ],
      "text/plain": [
       "<IPython.core.display.Latex object>"
      ]
     },
     "metadata": {},
     "output_type": "display_data"
    },
    {
     "data": {
      "text/latex": [
       "$k_{3}=h \\cdot f(x+\\dfrac{h}{2},y+\\dfrac{k_{2}}{2} )={6.25 - \\frac{12.5 \\left(y + 3.125 - \\frac{6.25 \\left(y - \\frac{6.25 y}{t + 200} + 3.125\\right)}{t + 203.125}\\right)}{t + 203.125}}={2.63745506790694}$"
      ],
      "text/plain": [
       "<IPython.core.display.Latex object>"
      ]
     },
     "metadata": {},
     "output_type": "display_data"
    },
    {
     "data": {
      "text/latex": [
       "$k_{4}=h \\cdot f(x+{h},y+{k_{3}})={6.25 - \\frac{12.5 \\left(y + 6.25 - \\frac{12.5 \\left(y + 3.125 - \\frac{6.25 \\left(y - \\frac{6.25 y}{t + 200} + 3.125\\right)}{t + 203.125}\\right)}{t + 203.125}\\right)}{t + 206.25}}={2.61666167286706}$"
      ],
      "text/plain": [
       "<IPython.core.display.Latex object>"
      ]
     },
     "metadata": {},
     "output_type": "display_data"
    },
    {
     "data": {
      "text/latex": [
       "$y_{8}=y_{7}+ \\dfrac{1}{6}[k_{1}+2k_{2}+2k_{3}+k_{4}]$"
      ],
      "text/plain": [
       "<IPython.core.display.Latex object>"
      ]
     },
     "metadata": {},
     "output_type": "display_data"
    },
    {
     "data": {
      "text/latex": [
       "$y_{8}=50+ \\dfrac{1}{6}[2.65875325770503+2 \\cdot2.63690186817193+2 \\cdot2.63745506790694+2.61666167286706]$"
      ],
      "text/plain": [
       "<IPython.core.display.Latex object>"
      ]
     },
     "metadata": {},
     "output_type": "display_data"
    },
    {
     "data": {
      "text/latex": [
       "$\\displaystyle y_{8} = 72.6666662752069$"
      ],
      "text/plain": [
       "Eq(y8, 72.6666662752069)"
      ]
     },
     "metadata": {},
     "output_type": "display_data"
    },
    {
     "data": {
      "text/latex": [
       "Iteración número: 9"
      ],
      "text/plain": [
       "<IPython.core.display.Latex object>"
      ]
     },
     "metadata": {},
     "output_type": "display_data"
    },
    {
     "data": {
      "text/latex": [
       "$k_{1}=h \\cdot f(t,y)={- \\frac{12.5 y}{t + 200} + 6.25}={2.61666668623965}$"
      ],
      "text/plain": [
       "<IPython.core.display.Latex object>"
      ]
     },
     "metadata": {},
     "output_type": "display_data"
    },
    {
     "data": {
      "text/latex": [
       "$k_{2}=h \\cdot f(x+\\dfrac{h}{2},y+\\dfrac{k_{1}}{2})={6.25 - \\frac{12.5 \\left(y - \\frac{6.25 y}{t + 200} + 3.125\\right)}{t + 203.125}}={2.59691359909498}$"
      ],
      "text/plain": [
       "<IPython.core.display.Latex object>"
      ]
     },
     "metadata": {},
     "output_type": "display_data"
    },
    {
     "data": {
      "text/latex": [
       "$k_{3}=h \\cdot f(x+\\dfrac{h}{2},y+\\dfrac{k_{2}}{2} )={6.25 - \\frac{12.5 \\left(y + 3.125 - \\frac{6.25 \\left(y - \\frac{6.25 y}{t + 200} + 3.125\\right)}{t + 203.125}\\right)}{t + 203.125}}={2.59740132964176}$"
      ],
      "text/plain": [
       "<IPython.core.display.Latex object>"
      ]
     },
     "metadata": {},
     "output_type": "display_data"
    },
    {
     "data": {
      "text/latex": [
       "$k_{4}=h \\cdot f(x+{h},y+{k_{3}})={6.25 - \\frac{12.5 \\left(y + 6.25 - \\frac{12.5 \\left(y + 3.125 - \\frac{6.25 \\left(y - \\frac{6.25 y}{t + 200} + 3.125\\right)}{t + 203.125}\\right)}{t + 203.125}\\right)}{t + 206.25}}={2.57858206805616}$"
      ],
      "text/plain": [
       "<IPython.core.display.Latex object>"
      ]
     },
     "metadata": {},
     "output_type": "display_data"
    },
    {
     "data": {
      "text/latex": [
       "$y_{9}=y_{8}+ \\dfrac{1}{6}[k_{1}+2k_{2}+2k_{3}+k_{4}]$"
      ],
      "text/plain": [
       "<IPython.core.display.Latex object>"
      ]
     },
     "metadata": {},
     "output_type": "display_data"
    },
    {
     "data": {
      "text/latex": [
       "$y_{9}=50+ \\dfrac{1}{6}[2.61666668623965+2 \\cdot2.59691359909498+2 \\cdot2.59740132964176+2.57858206805616]$"
      ],
      "text/plain": [
       "<IPython.core.display.Latex object>"
      ]
     },
     "metadata": {},
     "output_type": "display_data"
    },
    {
     "data": {
      "text/latex": [
       "$\\displaystyle y_{9} = 75.2639793771685$"
      ],
      "text/plain": [
       "Eq(y9, 75.2639793771685)"
      ]
     },
     "metadata": {},
     "output_type": "display_data"
    },
    {
     "data": {
      "text/latex": [
       "Iteración número: 10"
      ],
      "text/plain": [
       "<IPython.core.display.Latex object>"
      ]
     },
     "metadata": {},
     "output_type": "display_data"
    },
    {
     "data": {
      "text/latex": [
       "$k_{1}=h \\cdot f(t,y)={- \\frac{12.5 y}{t + 200} + 6.25}={2.57858637184544}$"
      ],
      "text/plain": [
       "<IPython.core.display.Latex object>"
      ]
     },
     "metadata": {},
     "output_type": "display_data"
    },
    {
     "data": {
      "text/latex": [
       "$k_{2}=h \\cdot f(x+\\dfrac{h}{2},y+\\dfrac{k_{1}}{2})={6.25 - \\frac{12.5 \\left(y - \\frac{6.25 y}{t + 200} + 3.125\\right)}{t + 203.125}}={2.56068565961006}$"
      ],
      "text/plain": [
       "<IPython.core.display.Latex object>"
      ]
     },
     "metadata": {},
     "output_type": "display_data"
    },
    {
     "data": {
      "text/latex": [
       "$k_{3}=h \\cdot f(x+\\dfrac{h}{2},y+\\dfrac{k_{2}}{2} )={6.25 - \\frac{12.5 \\left(y + 3.125 - \\frac{6.25 \\left(y - \\frac{6.25 y}{t + 200} + 3.125\\right)}{t + 203.125}\\right)}{t + 203.125}}={2.56111700207357}$"
      ],
      "text/plain": [
       "<IPython.core.display.Latex object>"
      ]
     },
     "metadata": {},
     "output_type": "display_data"
    },
    {
     "data": {
      "text/latex": [
       "$k_{4}=h \\cdot f(x+{h},y+{k_{3}})={6.25 - \\frac{12.5 \\left(y + 6.25 - \\frac{12.5 \\left(y + 3.125 - \\frac{6.25 \\left(y - \\frac{6.25 y}{t + 200} + 3.125\\right)}{t + 203.125}\\right)}{t + 203.125}\\right)}{t + 206.25}}={2.5440430295599}$"
      ],
      "text/plain": [
       "<IPython.core.display.Latex object>"
      ]
     },
     "metadata": {},
     "output_type": "display_data"
    },
    {
     "data": {
      "text/latex": [
       "$y_{10}=y_{9}+ \\dfrac{1}{6}[k_{1}+2k_{2}+2k_{3}+k_{4}]$"
      ],
      "text/plain": [
       "<IPython.core.display.Latex object>"
      ]
     },
     "metadata": {},
     "output_type": "display_data"
    },
    {
     "data": {
      "text/latex": [
       "$y_{10}=50+ \\dfrac{1}{6}[2.57858637184544+2 \\cdot2.56068565961006+2 \\cdot2.56111700207357+2.5440430295599]$"
      ],
      "text/plain": [
       "<IPython.core.display.Latex object>"
      ]
     },
     "metadata": {},
     "output_type": "display_data"
    },
    {
     "data": {
      "text/latex": [
       "$\\displaystyle y_{10} = 77.8250184979639$"
      ],
      "text/plain": [
       "Eq(y10, 77.8250184979639)"
      ]
     },
     "metadata": {},
     "output_type": "display_data"
    },
    {
     "data": {
      "text/latex": [
       "Iteración número: 11"
      ],
      "text/plain": [
       "<IPython.core.display.Latex object>"
      ]
     },
     "metadata": {},
     "output_type": "display_data"
    },
    {
     "data": {
      "text/latex": [
       "$k_{1}=h \\cdot f(t,y)={- \\frac{12.5 y}{t + 200} + 6.25}={2.5440467381922}$"
      ],
      "text/plain": [
       "<IPython.core.display.Latex object>"
      ]
     },
     "metadata": {},
     "output_type": "display_data"
    },
    {
     "data": {
      "text/latex": [
       "$k_{2}=h \\cdot f(x+\\dfrac{h}{2},y+\\dfrac{k_{1}}{2})={6.25 - \\frac{12.5 \\left(y - \\frac{6.25 y}{t + 200} + 3.125\\right)}{t + 203.125}}={2.52778626507953}$"
      ],
      "text/plain": [
       "<IPython.core.display.Latex object>"
      ]
     },
     "metadata": {},
     "output_type": "display_data"
    },
    {
     "data": {
      "text/latex": [
       "$k_{3}=h \\cdot f(x+\\dfrac{h}{2},y+\\dfrac{k_{2}}{2} )={6.25 - \\frac{12.5 \\left(y + 3.125 - \\frac{6.25 \\left(y - \\frac{6.25 y}{t + 200} + 3.125\\right)}{t + 203.125}\\right)}{t + 203.125}}={2.52816886444689}$"
      ],
      "text/plain": [
       "<IPython.core.display.Latex object>"
      ]
     },
     "metadata": {},
     "output_type": "display_data"
    },
    {
     "data": {
      "text/latex": [
       "$k_{4}=h \\cdot f(x+{h},y+{k_{3}})={6.25 - \\frac{12.5 \\left(y + 6.25 - \\frac{12.5 \\left(y + 3.125 - \\frac{6.25 \\left(y - \\frac{6.25 y}{t + 200} + 3.125\\right)}{t + 203.125}\\right)}{t + 203.125}\\right)}{t + 206.25}}={2.51264244825996}$"
      ],
      "text/plain": [
       "<IPython.core.display.Latex object>"
      ]
     },
     "metadata": {},
     "output_type": "display_data"
    },
    {
     "data": {
      "text/latex": [
       "$y_{11}=y_{10}+ \\dfrac{1}{6}[k_{1}+2k_{2}+2k_{3}+k_{4}]$"
      ],
      "text/plain": [
       "<IPython.core.display.Latex object>"
      ]
     },
     "metadata": {},
     "output_type": "display_data"
    },
    {
     "data": {
      "text/latex": [
       "$y_{11}=50+ \\dfrac{1}{6}[2.5440467381922+2 \\cdot2.52778626507953+2 \\cdot2.52816886444689+2.51264244825996]$"
      ],
      "text/plain": [
       "<IPython.core.display.Latex object>"
      ]
     },
     "metadata": {},
     "output_type": "display_data"
    },
    {
     "data": {
      "text/latex": [
       "$\\displaystyle y_{11} = 80.353118405548$"
      ],
      "text/plain": [
       "Eq(y11, 80.353118405548)"
      ]
     },
     "metadata": {},
     "output_type": "display_data"
    },
    {
     "data": {
      "text/latex": [
       "Iteración número: 12"
      ],
      "text/plain": [
       "<IPython.core.display.Latex object>"
      ]
     },
     "metadata": {},
     "output_type": "display_data"
    },
    {
     "data": {
      "text/latex": [
       "$k_{1}=h \\cdot f(t,y)={- \\frac{12.5 y}{t + 200} + 6.25}={2.51264565555591}$"
      ],
      "text/plain": [
       "<IPython.core.display.Latex object>"
      ]
     },
     "metadata": {},
     "output_type": "display_data"
    },
    {
     "data": {
      "text/latex": [
       "$k_{2}=h \\cdot f(x+\\dfrac{h}{2},y+\\dfrac{k_{1}}{2})={6.25 - \\frac{12.5 \\left(y - \\frac{6.25 y}{t + 200} + 3.125\\right)}{t + 203.125}}={2.49784178237582}$"
      ],
      "text/plain": [
       "<IPython.core.display.Latex object>"
      ]
     },
     "metadata": {},
     "output_type": "display_data"
    },
    {
     "data": {
      "text/latex": [
       "$k_{3}=h \\cdot f(x+\\dfrac{h}{2},y+\\dfrac{k_{2}}{2} )={6.25 - \\frac{12.5 \\left(y + 3.125 - \\frac{6.25 \\left(y - \\frac{6.25 y}{t + 200} + 3.125\\right)}{t + 203.125}\\right)}{t + 203.125}}={2.4981821012995}$"
      ],
      "text/plain": [
       "<IPython.core.display.Latex object>"
      ]
     },
     "metadata": {},
     "output_type": "display_data"
    },
    {
     "data": {
      "text/latex": [
       "$k_{4}=h \\cdot f(x+{h},y+{k_{3}})={6.25 - \\frac{12.5 \\left(y + 6.25 - \\frac{12.5 \\left(y + 3.125 - \\frac{6.25 \\left(y - \\frac{6.25 y}{t + 200} + 3.125\\right)}{t + 203.125}\\right)}{t + 203.125}\\right)}{t + 206.25}}={2.48403179514329}$"
      ],
      "text/plain": [
       "<IPython.core.display.Latex object>"
      ]
     },
     "metadata": {},
     "output_type": "display_data"
    },
    {
     "data": {
      "text/latex": [
       "$y_{12}=y_{11}+ \\dfrac{1}{6}[k_{1}+2k_{2}+2k_{3}+k_{4}]$"
      ],
      "text/plain": [
       "<IPython.core.display.Latex object>"
      ]
     },
     "metadata": {},
     "output_type": "display_data"
    },
    {
     "data": {
      "text/latex": [
       "$y_{12}=50+ \\dfrac{1}{6}[2.51264565555591+2 \\cdot2.49784178237582+2 \\cdot2.4981821012995+2.48403179514329]$"
      ],
      "text/plain": [
       "<IPython.core.display.Latex object>"
      ]
     },
     "metadata": {},
     "output_type": "display_data"
    },
    {
     "data": {
      "text/latex": [
       "$\\displaystyle y_{12} = 82.851239275223$"
      ],
      "text/plain": [
       "Eq(y12, 82.851239275223)"
      ]
     },
     "metadata": {},
     "output_type": "display_data"
    },
    {
     "data": {
      "text/latex": [
       "Iteración número: 13"
      ],
      "text/plain": [
       "<IPython.core.display.Latex object>"
      ]
     },
     "metadata": {},
     "output_type": "display_data"
    },
    {
     "data": {
      "text/latex": [
       "$k_{1}=h \\cdot f(t,y)={- \\frac{12.5 y}{t + 200} + 6.25}={2.48403457839895}$"
      ],
      "text/plain": [
       "<IPython.core.display.Latex object>"
      ]
     },
     "metadata": {},
     "output_type": "display_data"
    },
    {
     "data": {
      "text/latex": [
       "$k_{2}=h \\cdot f(x+\\dfrac{h}{2},y+\\dfrac{k_{1}}{2})={6.25 - \\frac{12.5 \\left(y - \\frac{6.25 y}{t + 200} + 3.125\\right)}{t + 203.125}}={2.47052779485742}$"
      ],
      "text/plain": [
       "<IPython.core.display.Latex object>"
      ]
     },
     "metadata": {},
     "output_type": "display_data"
    },
    {
     "data": {
      "text/latex": [
       "$k_{3}=h \\cdot f(x+\\dfrac{h}{2},y+\\dfrac{k_{2}}{2} )={6.25 - \\frac{12.5 \\left(y + 3.125 - \\frac{6.25 \\left(y - \\frac{6.25 y}{t + 200} + 3.125\\right)}{t + 203.125}\\right)}{t + 203.125}}={2.47083131808307}$"
      ],
      "text/plain": [
       "<IPython.core.display.Latex object>"
      ]
     },
     "metadata": {},
     "output_type": "display_data"
    },
    {
     "data": {
      "text/latex": [
       "$k_{4}=h \\cdot f(x+{h},y+{k_{3}})={6.25 - \\frac{12.5 \\left(y + 6.25 - \\frac{12.5 \\left(y + 3.125 - \\frac{6.25 \\left(y - \\frac{6.25 y}{t + 200} + 3.125\\right)}{t + 203.125}\\right)}{t + 203.125}\\right)}{t + 206.25}}={2.45790797363084}$"
      ],
      "text/plain": [
       "<IPython.core.display.Latex object>"
      ]
     },
     "metadata": {},
     "output_type": "display_data"
    },
    {
     "data": {
      "text/latex": [
       "$y_{13}=y_{12}+ \\dfrac{1}{6}[k_{1}+2k_{2}+2k_{3}+k_{4}]$"
      ],
      "text/plain": [
       "<IPython.core.display.Latex object>"
      ]
     },
     "metadata": {},
     "output_type": "display_data"
    },
    {
     "data": {
      "text/latex": [
       "$y_{13}=50+ \\dfrac{1}{6}[2.48403457839895+2 \\cdot2.47052779485742+2 \\cdot2.47083131808307+2.45790797363084]$"
      ],
      "text/plain": [
       "<IPython.core.display.Latex object>"
      ]
     },
     "metadata": {},
     "output_type": "display_data"
    },
    {
     "data": {
      "text/latex": [
       "$\\displaystyle y_{13} = 85.3220160715415$"
      ],
      "text/plain": [
       "Eq(y13, 85.3220160715415)"
      ]
     },
     "metadata": {},
     "output_type": "display_data"
    },
    {
     "data": {
      "text/latex": [
       "Iteración número: 14"
      ],
      "text/plain": [
       "<IPython.core.display.Latex object>"
      ]
     },
     "metadata": {},
     "output_type": "display_data"
    },
    {
     "data": {
      "text/latex": [
       "$k_{1}=h \\cdot f(t,y)={- \\frac{12.5 y}{t + 200} + 6.25}={2.45791039682038}$"
      ],
      "text/plain": [
       "<IPython.core.display.Latex object>"
      ]
     },
     "metadata": {},
     "output_type": "display_data"
    },
    {
     "data": {
      "text/latex": [
       "$k_{2}=h \\cdot f(x+\\dfrac{h}{2},y+\\dfrac{k_{1}}{2})={6.25 - \\frac{12.5 \\left(y - \\frac{6.25 y}{t + 200} + 3.125\\right)}{t + 203.125}}={2.44556170241971}$"
      ],
      "text/plain": [
       "<IPython.core.display.Latex object>"
      ]
     },
     "metadata": {},
     "output_type": "display_data"
    },
    {
     "data": {
      "text/latex": [
       "$k_{3}=h \\cdot f(x+\\dfrac{h}{2},y+\\dfrac{k_{2}}{2} )={6.25 - \\frac{12.5 \\left(y + 3.125 - \\frac{6.25 \\left(y - \\frac{6.25 y}{t + 200} + 3.125\\right)}{t + 203.125}\\right)}{t + 203.125}}={2.44583310229665}$"
      ],
      "text/plain": [
       "<IPython.core.display.Latex object>"
      ]
     },
     "metadata": {},
     "output_type": "display_data"
    },
    {
     "data": {
      "text/latex": [
       "$k_{4}=h \\cdot f(x+{h},y+{k_{3}})={6.25 - \\frac{12.5 \\left(y + 6.25 - \\frac{12.5 \\left(y + 3.125 - \\frac{6.25 \\left(y - \\frac{6.25 y}{t + 200} + 3.125\\right)}{t + 203.125}\\right)}{t + 203.125}\\right)}{t + 206.25}}={2.43400655765921}$"
      ],
      "text/plain": [
       "<IPython.core.display.Latex object>"
      ]
     },
     "metadata": {},
     "output_type": "display_data"
    },
    {
     "data": {
      "text/latex": [
       "$y_{14}=y_{13}+ \\dfrac{1}{6}[k_{1}+2k_{2}+2k_{3}+k_{4}]$"
      ],
      "text/plain": [
       "<IPython.core.display.Latex object>"
      ]
     },
     "metadata": {},
     "output_type": "display_data"
    },
    {
     "data": {
      "text/latex": [
       "$y_{14}=50+ \\dfrac{1}{6}[2.45791039682038+2 \\cdot2.44556170241971+2 \\cdot2.44583310229665+2.43400655765921]$"
      ],
      "text/plain": [
       "<IPython.core.display.Latex object>"
      ]
     },
     "metadata": {},
     "output_type": "display_data"
    },
    {
     "data": {
      "text/latex": [
       "$\\displaystyle y_{14} = 87.7678004988602$"
      ],
      "text/plain": [
       "Eq(y14, 87.7678004988602)"
      ]
     },
     "metadata": {},
     "output_type": "display_data"
    },
    {
     "data": {
      "text/latex": [
       "Iteración número: 15"
      ],
      "text/plain": [
       "<IPython.core.display.Latex object>"
      ]
     },
     "metadata": {},
     "output_type": "display_data"
    },
    {
     "data": {
      "text/latex": [
       "$k_{1}=h \\cdot f(t,y)={- \\frac{12.5 y}{t + 200} + 6.25}={2.4340086739626}$"
      ],
      "text/plain": [
       "<IPython.core.display.Latex object>"
      ]
     },
     "metadata": {},
     "output_type": "display_data"
    },
    {
     "data": {
      "text/latex": [
       "$k_{2}=h \\cdot f(x+\\dfrac{h}{2},y+\\dfrac{k_{1}}{2})={6.25 - \\frac{12.5 \\left(y - \\frac{6.25 y}{t + 200} + 3.125\\right)}{t + 203.125}}={2.42269656620037}$"
      ],
      "text/plain": [
       "<IPython.core.display.Latex object>"
      ]
     },
     "metadata": {},
     "output_type": "display_data"
    },
    {
     "data": {
      "text/latex": [
       "$k_{3}=h \\cdot f(x+\\dfrac{h}{2},y+\\dfrac{k_{2}}{2} )={6.25 - \\frac{12.5 \\left(y + 3.125 - \\frac{6.25 \\left(y - \\frac{6.25 y}{t + 200} + 3.125\\right)}{t + 203.125}\\right)}{t + 203.125}}={2.42293983733504}$"
      ],
      "text/plain": [
       "<IPython.core.display.Latex object>"
      ]
     },
     "metadata": {},
     "output_type": "display_data"
    },
    {
     "data": {
      "text/latex": [
       "$k_{4}=h \\cdot f(x+{h},y+{k_{3}})={6.25 - \\frac{12.5 \\left(y + 6.25 - \\frac{12.5 \\left(y + 3.125 - \\frac{6.25 \\left(y - \\frac{6.25 y}{t + 200} + 3.125\\right)}{t + 203.125}\\right)}{t + 203.125}\\right)}{t + 206.25}}={2.41209615590659}$"
      ],
      "text/plain": [
       "<IPython.core.display.Latex object>"
      ]
     },
     "metadata": {},
     "output_type": "display_data"
    },
    {
     "data": {
      "text/latex": [
       "$y_{15}=y_{14}+ \\dfrac{1}{6}[k_{1}+2k_{2}+2k_{3}+k_{4}]$"
      ],
      "text/plain": [
       "<IPython.core.display.Latex object>"
      ]
     },
     "metadata": {},
     "output_type": "display_data"
    },
    {
     "data": {
      "text/latex": [
       "$y_{15}=50+ \\dfrac{1}{6}[2.4340086739626+2 \\cdot2.42269656620037+2 \\cdot2.42293983733504+2.41209615590659]$"
      ],
      "text/plain": [
       "<IPython.core.display.Latex object>"
      ]
     },
     "metadata": {},
     "output_type": "display_data"
    },
    {
     "data": {
      "text/latex": [
       "$\\displaystyle y_{15} = 90.1906967716835$"
      ],
      "text/plain": [
       "Eq(y15, 90.1906967716835)"
      ]
     },
     "metadata": {},
     "output_type": "display_data"
    },
    {
     "data": {
      "text/latex": [
       "Iteración número: 16"
      ],
      "text/plain": [
       "<IPython.core.display.Latex object>"
      ]
     },
     "metadata": {},
     "output_type": "display_data"
    },
    {
     "data": {
      "text/latex": [
       "$k_{1}=h \\cdot f(t,y)={- \\frac{12.5 y}{t + 200} + 6.25}={2.41209800971559}$"
      ],
      "text/plain": [
       "<IPython.core.display.Latex object>"
      ]
     },
     "metadata": {},
     "output_type": "display_data"
    },
    {
     "data": {
      "text/latex": [
       "$k_{2}=h \\cdot f(x+\\dfrac{h}{2},y+\\dfrac{k_{1}}{2})={6.25 - \\frac{12.5 \\left(y - \\frac{6.25 y}{t + 200} + 3.125\\right)}{t + 203.125}}={2.40171596730352}$"
      ],
      "text/plain": [
       "<IPython.core.display.Latex object>"
      ]
     },
     "metadata": {},
     "output_type": "display_data"
    },
    {
     "data": {
      "text/latex": [
       "$k_{3}=h \\cdot f(x+\\dfrac{h}{2},y+\\dfrac{k_{2}}{2} )={6.25 - \\frac{12.5 \\left(y + 3.125 - \\frac{6.25 \\left(y - \\frac{6.25 y}{t + 200} + 3.125\\right)}{t + 203.125}\\right)}{t + 203.125}}={2.40193453661746}$"
      ],
      "text/plain": [
       "<IPython.core.display.Latex object>"
      ]
     },
     "metadata": {},
     "output_type": "display_data"
    },
    {
     "data": {
      "text/latex": [
       "$k_{4}=h \\cdot f(x+{h},y+{k_{3}})={6.25 - \\frac{12.5 \\left(y + 6.25 - \\frac{12.5 \\left(y + 3.125 - \\frac{6.25 \\left(y - \\frac{6.25 y}{t + 200} + 3.125\\right)}{t + 203.125}\\right)}{t + 203.125}\\right)}{t + 206.25}}={2.39197369548746}$"
      ],
      "text/plain": [
       "<IPython.core.display.Latex object>"
      ]
     },
     "metadata": {},
     "output_type": "display_data"
    },
    {
     "data": {
      "text/latex": [
       "$y_{16}=y_{15}+ \\dfrac{1}{6}[k_{1}+2k_{2}+2k_{3}+k_{4}]$"
      ],
      "text/plain": [
       "<IPython.core.display.Latex object>"
      ]
     },
     "metadata": {},
     "output_type": "display_data"
    },
    {
     "data": {
      "text/latex": [
       "$y_{16}=50+ \\dfrac{1}{6}[2.41209800971559+2 \\cdot2.40171596730352+2 \\cdot2.40193453661746+2.39197369548746]$"
      ],
      "text/plain": [
       "<IPython.core.display.Latex object>"
      ]
     },
     "metadata": {},
     "output_type": "display_data"
    },
    {
     "data": {
      "text/latex": [
       "$\\displaystyle y_{16} = 92.5925922238577$"
      ],
      "text/plain": [
       "Eq(y16, 92.5925922238577)"
      ]
     },
     "metadata": {},
     "output_type": "display_data"
    }
   ],
   "source": [
    "def k(x,q):\n",
    "    eq = h*f\n",
    "    k1 = eq.subs(t, x).subs(y, q)\n",
    "    k2 = eq.subs(t, x+(h/2)).subs(y, (q +(k1/2)))\n",
    "    k3 = eq.subs(t, x+(h/2)).subs(y, (q +(k2/2)))\n",
    "    k4 = eq.subs(t, x+h).subs(y, (q +k3))\n",
    "    return [k1, k2, k3, k4]\n",
    "\n",
    "def teo():\n",
    "    k1 = 'h \\cdot f(t,y)'\n",
    "    k2 = \"h \\cdot f(x+\\dfrac{h}{2},y+\\dfrac{k_{1}}{2})\"\n",
    "    k3 = \"h \\cdot f(x+\\dfrac{h}{2},y+\\dfrac{k_{2}}{2} )\"\n",
    "    k4 = \"h \\cdot f(x+{h},y+{k_{3}})\"\n",
    "    return [k1, k2, k3, k4]\n",
    "\n",
    "display(Latex('Método de Runge Kutta de orden 4:'))\n",
    "\n",
    "yi=[y0]\n",
    "for j in range(0,len(ti)-1):\n",
    "    display(Latex('Iteración número: '+ str(j+1)))\n",
    "    p = ti[j]\n",
    "    o = yi[j]\n",
    "    for i in range(1,5):\n",
    "        n=str(i)\n",
    "        g=str(i-1)\n",
    "        display(Latex('$k_{'+n+'}='+teo()[i-1]+'={'+latex(k(t,y)[i-1])+'}={'+latex(k(p,o)[i-1])+'}$'))\n",
    "    display(Latex('$y_{'+str(j+1)+'}=y_{'+str(j)+'}+ \\dfrac{1}{6}[k_{1}+2k_{2}+2k_{3}+k_{4}]$'))\n",
    "    display(Latex('$y_{'+str(j+1)+'}='+latex(y0)+'+ \\dfrac{1}{6}['+latex(k(p,o)[0])+'+2 \\cdot'+latex(k(p,o)[1])+'+2 \\cdot'+latex(k(p,o)[2])+'+'+latex(k(p,o)[3])+']$'))\n",
    "    ecu = yi[j]+ (k(p,o)[0]+(2*k(p,o)[1])+(2*k(p,o)[2])+k(p,o)[3])/6\n",
    "    display(Eq(S(\"y\"+str(j+1)),simplify(ecu)))\n",
    "    yi.append(simplify(ecu))\n",
    "    \n"
   ]
  },
  {
   "cell_type": "code",
   "execution_count": 69,
   "metadata": {},
   "outputs": [
    {
     "data": {
      "image/png": "[encoded data removed]",
      "text/plain": [
       "<Figure size 640x480 with 1 Axes>"
      ]
     },
     "metadata": {},
     "output_type": "display_data"
    }
   ],
   "source": [
    "from numpy import *\n",
    "import matplotlib.pyplot as plt\n",
    "\n",
    "x = array(yi)\n",
    "y = sort(ti)\n",
    "\n",
    "plt.xlabel('Sal en contenedor (kg)')\n",
    "plt.ylabel('Tiempo(min)')\n",
    "plt.title(\"Concentración de sal en contenedor (Rugen-Kutta)\")\n",
    "plt.grid(True)\n",
    "plt.plot(x, y, 'ro--')\n",
    "\n",
    "plt.show()"
   ]
  }
 ],
 "metadata": {
  "kernelspec": {
   "display_name": "Python 3.8.10 64-bit",
   "language": "python",
   "name": "python3"
  },
  "language_info": {
   "codemirror_mode": {
    "name": "ipython",
    "version": 3
   },
   "file_extension": ".py",
   "mimetype": "text/x-python",
   "name": "python",
   "nbconvert_exporter": "python",
   "pygments_lexer": "ipython3",
   "version": "3.8.10"
  },
  "orig_nbformat": 4,
  "vscode": {
   "interpreter": {
    "hash": "916dbcbb3f70747c44a77c7bcd40155683ae19c65e1c03b4aa3499c5328201f1"
   }
  }
 },
 "nbformat": 4,
 "nbformat_minor": 2
}
