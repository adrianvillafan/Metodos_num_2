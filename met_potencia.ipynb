{
 "cells": [
  {
   "cell_type": "code",
   "execution_count": 1,
   "metadata": {},
   "outputs": [
    {
     "data": {
      "text/latex": [
       "$A=\\left[\\begin{matrix}4 & -1 & 1\\\\-1 & 3 & -2\\\\1 & -2 & 3\\end{matrix}\\right]$"
      ],
      "text/plain": [
       "<IPython.core.display.Latex object>"
      ]
     },
     "metadata": {},
     "output_type": "display_data"
    },
    {
     "data": {
      "text/latex": [
       "$x_{0}=\\left[\\begin{matrix}1\\\\0\\\\0\\end{matrix}\\right]$"
      ],
      "text/plain": [
       "<IPython.core.display.Latex object>"
      ]
     },
     "metadata": {},
     "output_type": "display_data"
    }
   ],
   "source": [
    "from IPython.display import display , Latex\n",
    "from sympy import *\n",
    "y , t  = symbols('y t')\n",
    "A = Matrix([[4,-1,1], [-1,3,-2], [1,-2,3]])\n",
    "x0 = Matrix([[1],[0],[0]])\n",
    "display(Latex('$A='+latex(A)+'$'))\n",
    "display(Latex('$x_{0}='+latex(x0)+'$'))"
   ]
  },
  {
   "cell_type": "code",
   "execution_count": 3,
   "metadata": {},
   "outputs": [
    {
     "data": {
      "text/latex": [
       " Iteración número 1"
      ],
      "text/plain": [
       "<IPython.core.display.Latex object>"
      ]
     },
     "metadata": {},
     "output_type": "display_data"
    },
    {
     "data": {
      "text/latex": [
       "$ \\lambda_{0}= x_{0} ^{t} \\cdot A \\cdot x_{0} $"
      ],
      "text/plain": [
       "<IPython.core.display.Latex object>"
      ]
     },
     "metadata": {},
     "output_type": "display_data"
    },
    {
     "data": {
      "text/latex": [
       "$ \\lambda_{0}=\\left[\\begin{matrix}1 & 0 & 0\\end{matrix}\\right]   \\cdot \\left[\\begin{matrix}4 & -1 & 1\\\\-1 & 3 & -2\\\\1 & -2 & 3\\end{matrix}\\right] \\cdot \\left[\\begin{matrix}1\\\\0\\\\0\\end{matrix}\\right] $"
      ],
      "text/plain": [
       "<IPython.core.display.Latex object>"
      ]
     },
     "metadata": {},
     "output_type": "display_data"
    },
    {
     "data": {
      "text/latex": [
       "$ \\lambda_{0}=\\left[\\begin{matrix}4 & -1 & 1\\end{matrix}\\right]   \\cdot \\left[\\begin{matrix}1\\\\0\\\\0\\end{matrix}\\right]=\\left[\\begin{matrix}4\\end{matrix}\\right]=\\left[\\begin{matrix}4.0\\end{matrix}\\right] $"
      ],
      "text/plain": [
       "<IPython.core.display.Latex object>"
      ]
     },
     "metadata": {},
     "output_type": "display_data"
    },
    {
     "data": {
      "text/latex": [
       "$ y_{1}= A \\cdot x_{0} = \\left[\\begin{matrix}4 & -1 & 1\\\\-1 & 3 & -2\\\\1 & -2 & 3\\end{matrix}\\right] \\cdot \\left[\\begin{matrix}1\\\\0\\\\0\\end{matrix}\\right] = \\left[\\begin{matrix}4\\\\-1\\\\1\\end{matrix}\\right]$"
      ],
      "text/plain": [
       "<IPython.core.display.Latex object>"
      ]
     },
     "metadata": {},
     "output_type": "display_data"
    },
    {
     "data": {
      "text/latex": [
       "$ x_{1}= \\dfrac{y_{1}}{||y_{1}||_{2}} = \\dfrac{y_{1}}{3 \\sqrt{2}} = \\left[\\begin{matrix}\\frac{2 \\sqrt{2}}{3}\\\\- \\frac{\\sqrt{2}}{6}\\\\\\frac{\\sqrt{2}}{6}\\end{matrix}\\right] $"
      ],
      "text/plain": [
       "<IPython.core.display.Latex object>"
      ]
     },
     "metadata": {},
     "output_type": "display_data"
    },
    {
     "data": {
      "text/latex": [
       " Iteración número 2"
      ],
      "text/plain": [
       "<IPython.core.display.Latex object>"
      ]
     },
     "metadata": {},
     "output_type": "display_data"
    },
    {
     "data": {
      "text/latex": [
       "$ \\lambda_{1}= x_{1} ^{t} \\cdot A \\cdot x_{1} $"
      ],
      "text/plain": [
       "<IPython.core.display.Latex object>"
      ]
     },
     "metadata": {},
     "output_type": "display_data"
    },
    {
     "data": {
      "text/latex": [
       "$ \\lambda_{1}=\\left[\\begin{matrix}\\frac{2 \\sqrt{2}}{3} & - \\frac{\\sqrt{2}}{6} & \\frac{\\sqrt{2}}{6}\\end{matrix}\\right]   \\cdot \\left[\\begin{matrix}4 & -1 & 1\\\\-1 & 3 & -2\\\\1 & -2 & 3\\end{matrix}\\right] \\cdot \\left[\\begin{matrix}\\frac{2 \\sqrt{2}}{3}\\\\- \\frac{\\sqrt{2}}{6}\\\\\\frac{\\sqrt{2}}{6}\\end{matrix}\\right] $"
      ],
      "text/plain": [
       "<IPython.core.display.Latex object>"
      ]
     },
     "metadata": {},
     "output_type": "display_data"
    },
    {
     "data": {
      "text/latex": [
       "$ \\lambda_{1}=\\left[\\begin{matrix}3 \\sqrt{2} & - \\frac{3 \\sqrt{2}}{2} & \\frac{3 \\sqrt{2}}{2}\\end{matrix}\\right]   \\cdot \\left[\\begin{matrix}\\frac{2 \\sqrt{2}}{3}\\\\- \\frac{\\sqrt{2}}{6}\\\\\\frac{\\sqrt{2}}{6}\\end{matrix}\\right]=\\left[\\begin{matrix}5\\end{matrix}\\right]=\\left[\\begin{matrix}5.0\\end{matrix}\\right] $"
      ],
      "text/plain": [
       "<IPython.core.display.Latex object>"
      ]
     },
     "metadata": {},
     "output_type": "display_data"
    },
    {
     "data": {
      "text/latex": [
       "$ y_{2}= A \\cdot x_{1} = \\left[\\begin{matrix}4 & -1 & 1\\\\-1 & 3 & -2\\\\1 & -2 & 3\\end{matrix}\\right] \\cdot \\left[\\begin{matrix}\\frac{2 \\sqrt{2}}{3}\\\\- \\frac{\\sqrt{2}}{6}\\\\\\frac{\\sqrt{2}}{6}\\end{matrix}\\right] = \\left[\\begin{matrix}3 \\sqrt{2}\\\\- \\frac{3 \\sqrt{2}}{2}\\\\\\frac{3 \\sqrt{2}}{2}\\end{matrix}\\right]$"
      ],
      "text/plain": [
       "<IPython.core.display.Latex object>"
      ]
     },
     "metadata": {},
     "output_type": "display_data"
    },
    {
     "data": {
      "text/latex": [
       "$ x_{2}= \\dfrac{y_{2}}{||y_{2}||_{2}} = \\dfrac{y_{2}}{3 \\sqrt{3}} = \\left[\\begin{matrix}\\frac{\\sqrt{6}}{3}\\\\- \\frac{\\sqrt{6}}{6}\\\\\\frac{\\sqrt{6}}{6}\\end{matrix}\\right] $"
      ],
      "text/plain": [
       "<IPython.core.display.Latex object>"
      ]
     },
     "metadata": {},
     "output_type": "display_data"
    },
    {
     "data": {
      "text/latex": [
       " Iteración número 3"
      ],
      "text/plain": [
       "<IPython.core.display.Latex object>"
      ]
     },
     "metadata": {},
     "output_type": "display_data"
    },
    {
     "data": {
      "text/latex": [
       "$ \\lambda_{2}= x_{2} ^{t} \\cdot A \\cdot x_{2} $"
      ],
      "text/plain": [
       "<IPython.core.display.Latex object>"
      ]
     },
     "metadata": {},
     "output_type": "display_data"
    },
    {
     "data": {
      "text/latex": [
       "$ \\lambda_{2}=\\left[\\begin{matrix}\\frac{\\sqrt{6}}{3} & - \\frac{\\sqrt{6}}{6} & \\frac{\\sqrt{6}}{6}\\end{matrix}\\right]   \\cdot \\left[\\begin{matrix}4 & -1 & 1\\\\-1 & 3 & -2\\\\1 & -2 & 3\\end{matrix}\\right] \\cdot \\left[\\begin{matrix}\\frac{\\sqrt{6}}{3}\\\\- \\frac{\\sqrt{6}}{6}\\\\\\frac{\\sqrt{6}}{6}\\end{matrix}\\right] $"
      ],
      "text/plain": [
       "<IPython.core.display.Latex object>"
      ]
     },
     "metadata": {},
     "output_type": "display_data"
    },
    {
     "data": {
      "text/latex": [
       "$ \\lambda_{2}=\\left[\\begin{matrix}\\frac{5 \\sqrt{6}}{3} & - \\frac{7 \\sqrt{6}}{6} & \\frac{7 \\sqrt{6}}{6}\\end{matrix}\\right]   \\cdot \\left[\\begin{matrix}\\frac{\\sqrt{6}}{3}\\\\- \\frac{\\sqrt{6}}{6}\\\\\\frac{\\sqrt{6}}{6}\\end{matrix}\\right]=\\left[\\begin{matrix}\\frac{17}{3}\\end{matrix}\\right]=\\left[\\begin{matrix}5.66666666666667\\end{matrix}\\right] $"
      ],
      "text/plain": [
       "<IPython.core.display.Latex object>"
      ]
     },
     "metadata": {},
     "output_type": "display_data"
    },
    {
     "data": {
      "text/latex": [
       "$ y_{3}= A \\cdot x_{2} = \\left[\\begin{matrix}4 & -1 & 1\\\\-1 & 3 & -2\\\\1 & -2 & 3\\end{matrix}\\right] \\cdot \\left[\\begin{matrix}\\frac{\\sqrt{6}}{3}\\\\- \\frac{\\sqrt{6}}{6}\\\\\\frac{\\sqrt{6}}{6}\\end{matrix}\\right] = \\left[\\begin{matrix}\\frac{5 \\sqrt{6}}{3}\\\\- \\frac{7 \\sqrt{6}}{6}\\\\\\frac{7 \\sqrt{6}}{6}\\end{matrix}\\right]$"
      ],
      "text/plain": [
       "<IPython.core.display.Latex object>"
      ]
     },
     "metadata": {},
     "output_type": "display_data"
    },
    {
     "data": {
      "text/latex": [
       "$ x_{3}= \\dfrac{y_{3}}{||y_{3}||_{2}} = \\dfrac{y_{3}}{\\sqrt{33}} = \\left[\\begin{matrix}\\frac{5 \\sqrt{22}}{33}\\\\- \\frac{7 \\sqrt{22}}{66}\\\\\\frac{7 \\sqrt{22}}{66}\\end{matrix}\\right] $"
      ],
      "text/plain": [
       "<IPython.core.display.Latex object>"
      ]
     },
     "metadata": {},
     "output_type": "display_data"
    },
    {
     "data": {
      "text/latex": [
       " Iteración número 4"
      ],
      "text/plain": [
       "<IPython.core.display.Latex object>"
      ]
     },
     "metadata": {},
     "output_type": "display_data"
    },
    {
     "data": {
      "text/latex": [
       "$ \\lambda_{3}= x_{3} ^{t} \\cdot A \\cdot x_{3} $"
      ],
      "text/plain": [
       "<IPython.core.display.Latex object>"
      ]
     },
     "metadata": {},
     "output_type": "display_data"
    },
    {
     "data": {
      "text/latex": [
       "$ \\lambda_{3}=\\left[\\begin{matrix}\\frac{5 \\sqrt{22}}{33} & - \\frac{7 \\sqrt{22}}{66} & \\frac{7 \\sqrt{22}}{66}\\end{matrix}\\right]   \\cdot \\left[\\begin{matrix}4 & -1 & 1\\\\-1 & 3 & -2\\\\1 & -2 & 3\\end{matrix}\\right] \\cdot \\left[\\begin{matrix}\\frac{5 \\sqrt{22}}{33}\\\\- \\frac{7 \\sqrt{22}}{66}\\\\\\frac{7 \\sqrt{22}}{66}\\end{matrix}\\right] $"
      ],
      "text/plain": [
       "<IPython.core.display.Latex object>"
      ]
     },
     "metadata": {},
     "output_type": "display_data"
    },
    {
     "data": {
      "text/latex": [
       "$ \\lambda_{3}=\\left[\\begin{matrix}\\frac{9 \\sqrt{22}}{11} & - \\frac{15 \\sqrt{22}}{22} & \\frac{15 \\sqrt{22}}{22}\\end{matrix}\\right]   \\cdot \\left[\\begin{matrix}\\frac{5 \\sqrt{22}}{33}\\\\- \\frac{7 \\sqrt{22}}{66}\\\\\\frac{7 \\sqrt{22}}{66}\\end{matrix}\\right]=\\left[\\begin{matrix}\\frac{65}{11}\\end{matrix}\\right]=\\left[\\begin{matrix}5.90909090909091\\end{matrix}\\right] $"
      ],
      "text/plain": [
       "<IPython.core.display.Latex object>"
      ]
     },
     "metadata": {},
     "output_type": "display_data"
    },
    {
     "data": {
      "text/latex": [
       "$ y_{4}= A \\cdot x_{3} = \\left[\\begin{matrix}4 & -1 & 1\\\\-1 & 3 & -2\\\\1 & -2 & 3\\end{matrix}\\right] \\cdot \\left[\\begin{matrix}\\frac{5 \\sqrt{22}}{33}\\\\- \\frac{7 \\sqrt{22}}{66}\\\\\\frac{7 \\sqrt{22}}{66}\\end{matrix}\\right] = \\left[\\begin{matrix}\\frac{9 \\sqrt{22}}{11}\\\\- \\frac{15 \\sqrt{22}}{22}\\\\\\frac{15 \\sqrt{22}}{22}\\end{matrix}\\right]$"
      ],
      "text/plain": [
       "<IPython.core.display.Latex object>"
      ]
     },
     "metadata": {},
     "output_type": "display_data"
    },
    {
     "data": {
      "text/latex": [
       "$ x_{4}= \\dfrac{y_{4}}{||y_{4}||_{2}} = \\dfrac{y_{4}}{\\frac{3 \\sqrt{473}}{11}} = \\left[\\begin{matrix}\\frac{3 \\sqrt{86}}{43}\\\\- \\frac{5 \\sqrt{86}}{86}\\\\\\frac{5 \\sqrt{86}}{86}\\end{matrix}\\right] $"
      ],
      "text/plain": [
       "<IPython.core.display.Latex object>"
      ]
     },
     "metadata": {},
     "output_type": "display_data"
    },
    {
     "data": {
      "text/latex": [
       " Iteración número 5"
      ],
      "text/plain": [
       "<IPython.core.display.Latex object>"
      ]
     },
     "metadata": {},
     "output_type": "display_data"
    },
    {
     "data": {
      "text/latex": [
       "$ \\lambda_{4}= x_{4} ^{t} \\cdot A \\cdot x_{4} $"
      ],
      "text/plain": [
       "<IPython.core.display.Latex object>"
      ]
     },
     "metadata": {},
     "output_type": "display_data"
    },
    {
     "data": {
      "text/latex": [
       "$ \\lambda_{4}=\\left[\\begin{matrix}\\frac{3 \\sqrt{86}}{43} & - \\frac{5 \\sqrt{86}}{86} & \\frac{5 \\sqrt{86}}{86}\\end{matrix}\\right]   \\cdot \\left[\\begin{matrix}4 & -1 & 1\\\\-1 & 3 & -2\\\\1 & -2 & 3\\end{matrix}\\right] \\cdot \\left[\\begin{matrix}\\frac{3 \\sqrt{86}}{43}\\\\- \\frac{5 \\sqrt{86}}{86}\\\\\\frac{5 \\sqrt{86}}{86}\\end{matrix}\\right] $"
      ],
      "text/plain": [
       "<IPython.core.display.Latex object>"
      ]
     },
     "metadata": {},
     "output_type": "display_data"
    },
    {
     "data": {
      "text/latex": [
       "$ \\lambda_{4}=\\left[\\begin{matrix}\\frac{17 \\sqrt{86}}{43} & - \\frac{31 \\sqrt{86}}{86} & \\frac{31 \\sqrt{86}}{86}\\end{matrix}\\right]   \\cdot \\left[\\begin{matrix}\\frac{3 \\sqrt{86}}{43}\\\\- \\frac{5 \\sqrt{86}}{86}\\\\\\frac{5 \\sqrt{86}}{86}\\end{matrix}\\right]=\\left[\\begin{matrix}\\frac{257}{43}\\end{matrix}\\right]=\\left[\\begin{matrix}5.97674418604651\\end{matrix}\\right] $"
      ],
      "text/plain": [
       "<IPython.core.display.Latex object>"
      ]
     },
     "metadata": {},
     "output_type": "display_data"
    },
    {
     "data": {
      "text/latex": [
       "$ y_{5}= A \\cdot x_{4} = \\left[\\begin{matrix}4 & -1 & 1\\\\-1 & 3 & -2\\\\1 & -2 & 3\\end{matrix}\\right] \\cdot \\left[\\begin{matrix}\\frac{3 \\sqrt{86}}{43}\\\\- \\frac{5 \\sqrt{86}}{86}\\\\\\frac{5 \\sqrt{86}}{86}\\end{matrix}\\right] = \\left[\\begin{matrix}\\frac{17 \\sqrt{86}}{43}\\\\- \\frac{31 \\sqrt{86}}{86}\\\\\\frac{31 \\sqrt{86}}{86}\\end{matrix}\\right]$"
      ],
      "text/plain": [
       "<IPython.core.display.Latex object>"
      ]
     },
     "metadata": {},
     "output_type": "display_data"
    },
    {
     "data": {
      "text/latex": [
       "$ x_{5}= \\dfrac{y_{5}}{||y_{5}||_{2}} = \\dfrac{y_{5}}{\\frac{9 \\sqrt{817}}{43}} = \\left[\\begin{matrix}\\frac{17 \\sqrt{38}}{171}\\\\- \\frac{31 \\sqrt{38}}{342}\\\\\\frac{31 \\sqrt{38}}{342}\\end{matrix}\\right] $"
      ],
      "text/plain": [
       "<IPython.core.display.Latex object>"
      ]
     },
     "metadata": {},
     "output_type": "display_data"
    },
    {
     "data": {
      "text/latex": [
       " Iteración número 6"
      ],
      "text/plain": [
       "<IPython.core.display.Latex object>"
      ]
     },
     "metadata": {},
     "output_type": "display_data"
    },
    {
     "data": {
      "text/latex": [
       "$ \\lambda_{5}= x_{5} ^{t} \\cdot A \\cdot x_{5} $"
      ],
      "text/plain": [
       "<IPython.core.display.Latex object>"
      ]
     },
     "metadata": {},
     "output_type": "display_data"
    },
    {
     "data": {
      "text/latex": [
       "$ \\lambda_{5}=\\left[\\begin{matrix}\\frac{17 \\sqrt{38}}{171} & - \\frac{31 \\sqrt{38}}{342} & \\frac{31 \\sqrt{38}}{342}\\end{matrix}\\right]   \\cdot \\left[\\begin{matrix}4 & -1 & 1\\\\-1 & 3 & -2\\\\1 & -2 & 3\\end{matrix}\\right] \\cdot \\left[\\begin{matrix}\\frac{17 \\sqrt{38}}{171}\\\\- \\frac{31 \\sqrt{38}}{342}\\\\\\frac{31 \\sqrt{38}}{342}\\end{matrix}\\right] $"
      ],
      "text/plain": [
       "<IPython.core.display.Latex object>"
      ]
     },
     "metadata": {},
     "output_type": "display_data"
    },
    {
     "data": {
      "text/latex": [
       "$ \\lambda_{5}=\\left[\\begin{matrix}\\frac{11 \\sqrt{38}}{19} & - \\frac{21 \\sqrt{38}}{38} & \\frac{21 \\sqrt{38}}{38}\\end{matrix}\\right]   \\cdot \\left[\\begin{matrix}\\frac{17 \\sqrt{38}}{171}\\\\- \\frac{31 \\sqrt{38}}{342}\\\\\\frac{31 \\sqrt{38}}{342}\\end{matrix}\\right]=\\left[\\begin{matrix}\\frac{1025}{171}\\end{matrix}\\right]=\\left[\\begin{matrix}5.99415204678363\\end{matrix}\\right] $"
      ],
      "text/plain": [
       "<IPython.core.display.Latex object>"
      ]
     },
     "metadata": {},
     "output_type": "display_data"
    },
    {
     "data": {
      "text/latex": [
       "$ y_{6}= A \\cdot x_{5} = \\left[\\begin{matrix}4 & -1 & 1\\\\-1 & 3 & -2\\\\1 & -2 & 3\\end{matrix}\\right] \\cdot \\left[\\begin{matrix}\\frac{17 \\sqrt{38}}{171}\\\\- \\frac{31 \\sqrt{38}}{342}\\\\\\frac{31 \\sqrt{38}}{342}\\end{matrix}\\right] = \\left[\\begin{matrix}\\frac{11 \\sqrt{38}}{19}\\\\- \\frac{21 \\sqrt{38}}{38}\\\\\\frac{21 \\sqrt{38}}{38}\\end{matrix}\\right]$"
      ],
      "text/plain": [
       "<IPython.core.display.Latex object>"
      ]
     },
     "metadata": {},
     "output_type": "display_data"
    },
    {
     "data": {
      "text/latex": [
       "$ x_{6}= \\dfrac{y_{6}}{||y_{6}||_{2}} = \\dfrac{y_{6}}{\\frac{\\sqrt{12977}}{19}} = \\left[\\begin{matrix}\\frac{11 \\sqrt{1366}}{683}\\\\- \\frac{21 \\sqrt{1366}}{1366}\\\\\\frac{21 \\sqrt{1366}}{1366}\\end{matrix}\\right] $"
      ],
      "text/plain": [
       "<IPython.core.display.Latex object>"
      ]
     },
     "metadata": {},
     "output_type": "display_data"
    },
    {
     "data": {
      "text/latex": [
       " Iteración número 7"
      ],
      "text/plain": [
       "<IPython.core.display.Latex object>"
      ]
     },
     "metadata": {},
     "output_type": "display_data"
    },
    {
     "data": {
      "text/latex": [
       "$ \\lambda_{6}= x_{6} ^{t} \\cdot A \\cdot x_{6} $"
      ],
      "text/plain": [
       "<IPython.core.display.Latex object>"
      ]
     },
     "metadata": {},
     "output_type": "display_data"
    },
    {
     "data": {
      "text/latex": [
       "$ \\lambda_{6}=\\left[\\begin{matrix}\\frac{11 \\sqrt{1366}}{683} & - \\frac{21 \\sqrt{1366}}{1366} & \\frac{21 \\sqrt{1366}}{1366}\\end{matrix}\\right]   \\cdot \\left[\\begin{matrix}4 & -1 & 1\\\\-1 & 3 & -2\\\\1 & -2 & 3\\end{matrix}\\right] \\cdot \\left[\\begin{matrix}\\frac{11 \\sqrt{1366}}{683}\\\\- \\frac{21 \\sqrt{1366}}{1366}\\\\\\frac{21 \\sqrt{1366}}{1366}\\end{matrix}\\right] $"
      ],
      "text/plain": [
       "<IPython.core.display.Latex object>"
      ]
     },
     "metadata": {},
     "output_type": "display_data"
    },
    {
     "data": {
      "text/latex": [
       "$ \\lambda_{6}=\\left[\\begin{matrix}\\frac{65 \\sqrt{1366}}{683} & - \\frac{127 \\sqrt{1366}}{1366} & \\frac{127 \\sqrt{1366}}{1366}\\end{matrix}\\right]   \\cdot \\left[\\begin{matrix}\\frac{11 \\sqrt{1366}}{683}\\\\- \\frac{21 \\sqrt{1366}}{1366}\\\\\\frac{21 \\sqrt{1366}}{1366}\\end{matrix}\\right]=\\left[\\begin{matrix}\\frac{4097}{683}\\end{matrix}\\right]=\\left[\\begin{matrix}5.99853587115666\\end{matrix}\\right] $"
      ],
      "text/plain": [
       "<IPython.core.display.Latex object>"
      ]
     },
     "metadata": {},
     "output_type": "display_data"
    },
    {
     "data": {
      "text/latex": [
       "$ y_{7}= A \\cdot x_{6} = \\left[\\begin{matrix}4 & -1 & 1\\\\-1 & 3 & -2\\\\1 & -2 & 3\\end{matrix}\\right] \\cdot \\left[\\begin{matrix}\\frac{11 \\sqrt{1366}}{683}\\\\- \\frac{21 \\sqrt{1366}}{1366}\\\\\\frac{21 \\sqrt{1366}}{1366}\\end{matrix}\\right] = \\left[\\begin{matrix}\\frac{65 \\sqrt{1366}}{683}\\\\- \\frac{127 \\sqrt{1366}}{1366}\\\\\\frac{127 \\sqrt{1366}}{1366}\\end{matrix}\\right]$"
      ],
      "text/plain": [
       "<IPython.core.display.Latex object>"
      ]
     },
     "metadata": {},
     "output_type": "display_data"
    },
    {
     "data": {
      "text/latex": [
       "$ x_{7}= \\dfrac{y_{7}}{||y_{7}||_{2}} = \\dfrac{y_{7}}{\\frac{3 \\sqrt{1865273}}{683}} = \\left[\\begin{matrix}\\frac{65 \\sqrt{5462}}{8193}\\\\- \\frac{127 \\sqrt{5462}}{16386}\\\\\\frac{127 \\sqrt{5462}}{16386}\\end{matrix}\\right] $"
      ],
      "text/plain": [
       "<IPython.core.display.Latex object>"
      ]
     },
     "metadata": {},
     "output_type": "display_data"
    },
    {
     "data": {
      "text/latex": [
       " Iteración número 8"
      ],
      "text/plain": [
       "<IPython.core.display.Latex object>"
      ]
     },
     "metadata": {},
     "output_type": "display_data"
    },
    {
     "data": {
      "text/latex": [
       "$ \\lambda_{7}= x_{7} ^{t} \\cdot A \\cdot x_{7} $"
      ],
      "text/plain": [
       "<IPython.core.display.Latex object>"
      ]
     },
     "metadata": {},
     "output_type": "display_data"
    },
    {
     "data": {
      "text/latex": [
       "$ \\lambda_{7}=\\left[\\begin{matrix}\\frac{65 \\sqrt{5462}}{8193} & - \\frac{127 \\sqrt{5462}}{16386} & \\frac{127 \\sqrt{5462}}{16386}\\end{matrix}\\right]   \\cdot \\left[\\begin{matrix}4 & -1 & 1\\\\-1 & 3 & -2\\\\1 & -2 & 3\\end{matrix}\\right] \\cdot \\left[\\begin{matrix}\\frac{65 \\sqrt{5462}}{8193}\\\\- \\frac{127 \\sqrt{5462}}{16386}\\\\\\frac{127 \\sqrt{5462}}{16386}\\end{matrix}\\right] $"
      ],
      "text/plain": [
       "<IPython.core.display.Latex object>"
      ]
     },
     "metadata": {},
     "output_type": "display_data"
    },
    {
     "data": {
      "text/latex": [
       "$ \\lambda_{7}=\\left[\\begin{matrix}\\frac{129 \\sqrt{5462}}{2731} & - \\frac{255 \\sqrt{5462}}{5462} & \\frac{255 \\sqrt{5462}}{5462}\\end{matrix}\\right]   \\cdot \\left[\\begin{matrix}\\frac{65 \\sqrt{5462}}{8193}\\\\- \\frac{127 \\sqrt{5462}}{16386}\\\\\\frac{127 \\sqrt{5462}}{16386}\\end{matrix}\\right]=\\left[\\begin{matrix}\\frac{16385}{2731}\\end{matrix}\\right]=\\left[\\begin{matrix}5.99963383376053\\end{matrix}\\right] $"
      ],
      "text/plain": [
       "<IPython.core.display.Latex object>"
      ]
     },
     "metadata": {},
     "output_type": "display_data"
    },
    {
     "data": {
      "text/latex": [
       "$ y_{8}= A \\cdot x_{7} = \\left[\\begin{matrix}4 & -1 & 1\\\\-1 & 3 & -2\\\\1 & -2 & 3\\end{matrix}\\right] \\cdot \\left[\\begin{matrix}\\frac{65 \\sqrt{5462}}{8193}\\\\- \\frac{127 \\sqrt{5462}}{16386}\\\\\\frac{127 \\sqrt{5462}}{16386}\\end{matrix}\\right] = \\left[\\begin{matrix}\\frac{129 \\sqrt{5462}}{2731}\\\\- \\frac{255 \\sqrt{5462}}{5462}\\\\\\frac{255 \\sqrt{5462}}{5462}\\end{matrix}\\right]$"
      ],
      "text/plain": [
       "<IPython.core.display.Latex object>"
      ]
     },
     "metadata": {},
     "output_type": "display_data"
    },
    {
     "data": {
      "text/latex": [
       "$ x_{8}= \\dfrac{y_{8}}{||y_{8}||_{2}} = \\dfrac{y_{8}}{\\frac{3 \\sqrt{29830713}}{2731}} = \\left[\\begin{matrix}\\frac{43 \\sqrt{21846}}{10923}\\\\- \\frac{85 \\sqrt{21846}}{21846}\\\\\\frac{85 \\sqrt{21846}}{21846}\\end{matrix}\\right] $"
      ],
      "text/plain": [
       "<IPython.core.display.Latex object>"
      ]
     },
     "metadata": {},
     "output_type": "display_data"
    }
   ],
   "source": [
    "x=[x0]\n",
    "lamb = []\n",
    "y = [0]\n",
    "\n",
    "for i in range(0,8): \n",
    "    lamb.append(x[i].T * A * x[i])\n",
    "    display(Latex(' Iteración número '+str(i+1)))\n",
    "    display(Latex('$ \\lambda_{'+str(i)+'}= x_{'+str(i)+'} ^{t} \\cdot A \\cdot x_{'+str(i)+'} $'))\n",
    "    display(Latex('$ \\lambda_{'+str(i)+'}='+latex(x[i].T)+'   \\cdot ' +latex(A)+ ' \\cdot ' +latex(x[i])+ ' $'))\n",
    "    display(Latex('$ \\lambda_{'+str(i)+'}='+latex(x[i].T * A)+'   \\cdot ' +latex(x[i])+'='+latex(lamb[i])+'='+latex(N(lamb[i]))+' $'))\n",
    "    y.append(A * x[i])\n",
    "    display(Latex('$ y_{'+str(i+1)+'}= A \\cdot x_{'+str(i)+'} = '+latex(A) +' \\cdot '+latex(x[i])+' = '+latex(y[i+1])+'$'))\n",
    "    norm = sqrt(sum(matrix_multiply_elementwise(y[i+1].T, y[i+1].T)))\n",
    "    x.append(y[i+1]/norm)\n",
    "    display(Latex('$ x_{'+str(i+1)+'}= \\dfrac{y_{'+str(i+1)+'}}{||y_{'+str(i+1)+'}||_{2}} = \\dfrac{y_{'+str(i+1)+'}}{'+latex(norm)+'} = '+ latex(x[i+1]) +' $'))\n",
    "\n",
    "\n"
   ]
  }
 ],
 "metadata": {
  "kernelspec": {
   "display_name": "Python 3.8.10 64-bit",
   "language": "python",
   "name": "python3"
  },
  "language_info": {
   "codemirror_mode": {
    "name": "ipython",
    "version": 3
   },
   "file_extension": ".py",
   "mimetype": "text/x-python",
   "name": "python",
   "nbconvert_exporter": "python",
   "pygments_lexer": "ipython3",
   "version": "3.8.10"
  },
  "orig_nbformat": 4,
  "vscode": {
   "interpreter": {
    "hash": "916dbcbb3f70747c44a77c7bcd40155683ae19c65e1c03b4aa3499c5328201f1"
   }
  }
 },
 "nbformat": 4,
 "nbformat_minor": 2
}
