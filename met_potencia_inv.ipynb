{
 "cells": [
  {
   "cell_type": "code",
   "execution_count": 92,
   "metadata": {},
   "outputs": [
    {
     "data": {
      "text/latex": [
       "$A=\\left[\\begin{matrix}4 & 1 & 1 & 1\\\\1 & 3 & -1 & 1\\\\1 & -1 & 2 & 0\\\\1 & 1 & 0 & 2\\end{matrix}\\right]$"
      ],
      "text/plain": [
       "<IPython.core.display.Latex object>"
      ]
     },
     "metadata": {},
     "output_type": "display_data"
    },
    {
     "data": {
      "text/latex": [
       "$x_{0}=\\left[\\begin{matrix}1\\\\-2\\\\0\\\\3\\end{matrix}\\right]$"
      ],
      "text/plain": [
       "<IPython.core.display.Latex object>"
      ]
     },
     "metadata": {},
     "output_type": "display_data"
    }
   ],
   "source": [
    "from IPython.display import display , Latex\n",
    "from sympy import *\n",
    "A = Matrix([[4, 1 ,1,1], [1,3, -1,1], [1, -1 ,2,0],[1,1,0,2]])\n",
    "x0 = Matrix([[1],[-2],[0],[3]])\n",
    "display(Latex('$A='+latex(A)+'$'))\n",
    "display(Latex('$x_{0}='+latex(x0)+'$'))"
   ]
  },
  {
   "cell_type": "code",
   "execution_count": 93,
   "metadata": {},
   "outputs": [
    {
     "data": {
      "text/latex": [
       " Iteración número 1"
      ],
      "text/plain": [
       "<IPython.core.display.Latex object>"
      ]
     },
     "metadata": {},
     "output_type": "display_data"
    },
    {
     "data": {
      "text/latex": [
       "$ \\lambda_{0}= x_{0} ^{t} \\cdot A \\cdot x_{0} $"
      ],
      "text/plain": [
       "<IPython.core.display.Latex object>"
      ]
     },
     "metadata": {},
     "output_type": "display_data"
    },
    {
     "data": {
      "text/latex": [
       "$ \\lambda_{0}=\\left[\\begin{matrix}1 & -2 & 0 & 3\\end{matrix}\\right]   \\cdot \\left[\\begin{matrix}4 & 1 & 1 & 1\\\\1 & 3 & -1 & 1\\\\1 & -1 & 2 & 0\\\\1 & 1 & 0 & 2\\end{matrix}\\right] \\cdot \\left[\\begin{matrix}1\\\\-2\\\\0\\\\3\\end{matrix}\\right] $"
      ],
      "text/plain": [
       "<IPython.core.display.Latex object>"
      ]
     },
     "metadata": {},
     "output_type": "display_data"
    },
    {
     "data": {
      "text/latex": [
       "$ \\lambda_{0}=\\left[\\begin{matrix}5 & -2 & 3 & 5\\end{matrix}\\right]   \\cdot \\left[\\begin{matrix}1\\\\-2\\\\0\\\\3\\end{matrix}\\right]=\\left[\\begin{matrix}24\\end{matrix}\\right]=\\left[\\begin{matrix}24.0\\end{matrix}\\right] $"
      ],
      "text/plain": [
       "<IPython.core.display.Latex object>"
      ]
     },
     "metadata": {},
     "output_type": "display_data"
    },
    {
     "data": {
      "text/latex": [
       "$ y_{1}= A^{-1} \\cdot x_{0} = \\left[\\begin{matrix}\\frac{2}{5} & - \\frac{1}{5} & - \\frac{3}{10} & - \\frac{1}{10}\\\\- \\frac{1}{5} & \\frac{3}{5} & \\frac{2}{5} & - \\frac{1}{5}\\\\- \\frac{3}{10} & \\frac{2}{5} & \\frac{17}{20} & - \\frac{1}{20}\\\\- \\frac{1}{10} & - \\frac{1}{5} & - \\frac{1}{20} & \\frac{13}{20}\\end{matrix}\\right] \\cdot \\left[\\begin{matrix}1\\\\-2\\\\0\\\\3\\end{matrix}\\right] = \\left[\\begin{matrix}\\frac{1}{2}\\\\-2\\\\- \\frac{5}{4}\\\\\\frac{9}{4}\\end{matrix}\\right]$"
      ],
      "text/plain": [
       "<IPython.core.display.Latex object>"
      ]
     },
     "metadata": {},
     "output_type": "display_data"
    },
    {
     "data": {
      "text/latex": [
       "$ x_{1}= \\dfrac{y_{1}}{||y_{1}||_{2}} = \\dfrac{y_{1}}{\\frac{\\sqrt{174}}{4}} = \\left[\\begin{matrix}\\frac{\\sqrt{174}}{87}\\\\- \\frac{4 \\sqrt{174}}{87}\\\\- \\frac{5 \\sqrt{174}}{174}\\\\\\frac{3 \\sqrt{174}}{58}\\end{matrix}\\right] $"
      ],
      "text/plain": [
       "<IPython.core.display.Latex object>"
      ]
     },
     "metadata": {},
     "output_type": "display_data"
    },
    {
     "data": {
      "text/latex": [
       " Iteración número 2"
      ],
      "text/plain": [
       "<IPython.core.display.Latex object>"
      ]
     },
     "metadata": {},
     "output_type": "display_data"
    },
    {
     "data": {
      "text/latex": [
       "$ \\lambda_{1}= x_{1} ^{t} \\cdot A \\cdot x_{1} $"
      ],
      "text/plain": [
       "<IPython.core.display.Latex object>"
      ]
     },
     "metadata": {},
     "output_type": "display_data"
    },
    {
     "data": {
      "text/latex": [
       "$ \\lambda_{1}=\\left[\\begin{matrix}\\frac{\\sqrt{174}}{87} & - \\frac{4 \\sqrt{174}}{87} & - \\frac{5 \\sqrt{174}}{174} & \\frac{3 \\sqrt{174}}{58}\\end{matrix}\\right]   \\cdot \\left[\\begin{matrix}4 & 1 & 1 & 1\\\\1 & 3 & -1 & 1\\\\1 & -1 & 2 & 0\\\\1 & 1 & 0 & 2\\end{matrix}\\right] \\cdot \\left[\\begin{matrix}\\frac{\\sqrt{174}}{87}\\\\- \\frac{4 \\sqrt{174}}{87}\\\\- \\frac{5 \\sqrt{174}}{174}\\\\\\frac{3 \\sqrt{174}}{58}\\end{matrix}\\right] $"
      ],
      "text/plain": [
       "<IPython.core.display.Latex object>"
      ]
     },
     "metadata": {},
     "output_type": "display_data"
    },
    {
     "data": {
      "text/latex": [
       "$ \\lambda_{1}=\\left[\\begin{matrix}\\frac{2 \\sqrt{174}}{87} & - \\frac{4 \\sqrt{174}}{87} & 0 & \\frac{2 \\sqrt{174}}{29}\\end{matrix}\\right]   \\cdot \\left[\\begin{matrix}\\frac{\\sqrt{174}}{87}\\\\- \\frac{4 \\sqrt{174}}{87}\\\\- \\frac{5 \\sqrt{174}}{174}\\\\\\frac{3 \\sqrt{174}}{58}\\end{matrix}\\right]=\\left[\\begin{matrix}\\frac{30}{29}\\end{matrix}\\right]=\\left[\\begin{matrix}1.03448275862069\\end{matrix}\\right] $"
      ],
      "text/plain": [
       "<IPython.core.display.Latex object>"
      ]
     },
     "metadata": {},
     "output_type": "display_data"
    },
    {
     "data": {
      "text/latex": [
       "$ y_{2}= A^{-1} \\cdot x_{1} = \\left[\\begin{matrix}\\frac{2}{5} & - \\frac{1}{5} & - \\frac{3}{10} & - \\frac{1}{10}\\\\- \\frac{1}{5} & \\frac{3}{5} & \\frac{2}{5} & - \\frac{1}{5}\\\\- \\frac{3}{10} & \\frac{2}{5} & \\frac{17}{20} & - \\frac{1}{20}\\\\- \\frac{1}{10} & - \\frac{1}{5} & - \\frac{1}{20} & \\frac{13}{20}\\end{matrix}\\right] \\cdot \\left[\\begin{matrix}\\frac{\\sqrt{174}}{87}\\\\- \\frac{4 \\sqrt{174}}{87}\\\\- \\frac{5 \\sqrt{174}}{174}\\\\\\frac{3 \\sqrt{174}}{58}\\end{matrix}\\right] = \\left[\\begin{matrix}\\frac{\\sqrt{174}}{58}\\\\- \\frac{3 \\sqrt{174}}{58}\\\\- \\frac{17 \\sqrt{174}}{348}\\\\\\frac{5 \\sqrt{174}}{116}\\end{matrix}\\right]$"
      ],
      "text/plain": [
       "<IPython.core.display.Latex object>"
      ]
     },
     "metadata": {},
     "output_type": "display_data"
    },
    {
     "data": {
      "text/latex": [
       "$ x_{2}= \\dfrac{y_{2}}{||y_{2}||_{2}} = \\dfrac{y_{2}}{\\frac{\\sqrt{38019}}{174}} = \\left[\\begin{matrix}\\frac{3 \\sqrt{874}}{437}\\\\- \\frac{9 \\sqrt{874}}{437}\\\\- \\frac{17 \\sqrt{874}}{874}\\\\\\frac{15 \\sqrt{874}}{874}\\end{matrix}\\right] $"
      ],
      "text/plain": [
       "<IPython.core.display.Latex object>"
      ]
     },
     "metadata": {},
     "output_type": "display_data"
    },
    {
     "data": {
      "text/latex": [
       " Iteración número 3"
      ],
      "text/plain": [
       "<IPython.core.display.Latex object>"
      ]
     },
     "metadata": {},
     "output_type": "display_data"
    },
    {
     "data": {
      "text/latex": [
       "$ \\lambda_{2}= x_{2} ^{t} \\cdot A \\cdot x_{2} $"
      ],
      "text/plain": [
       "<IPython.core.display.Latex object>"
      ]
     },
     "metadata": {},
     "output_type": "display_data"
    },
    {
     "data": {
      "text/latex": [
       "$ \\lambda_{2}=\\left[\\begin{matrix}\\frac{3 \\sqrt{874}}{437} & - \\frac{9 \\sqrt{874}}{437} & - \\frac{17 \\sqrt{874}}{874} & \\frac{15 \\sqrt{874}}{874}\\end{matrix}\\right]   \\cdot \\left[\\begin{matrix}4 & 1 & 1 & 1\\\\1 & 3 & -1 & 1\\\\1 & -1 & 2 & 0\\\\1 & 1 & 0 & 2\\end{matrix}\\right] \\cdot \\left[\\begin{matrix}\\frac{3 \\sqrt{874}}{437}\\\\- \\frac{9 \\sqrt{874}}{437}\\\\- \\frac{17 \\sqrt{874}}{874}\\\\\\frac{15 \\sqrt{874}}{874}\\end{matrix}\\right] $"
      ],
      "text/plain": [
       "<IPython.core.display.Latex object>"
      ]
     },
     "metadata": {},
     "output_type": "display_data"
    },
    {
     "data": {
      "text/latex": [
       "$ \\lambda_{2}=\\left[\\begin{matrix}\\frac{2 \\sqrt{874}}{437} & - \\frac{8 \\sqrt{874}}{437} & - \\frac{5 \\sqrt{874}}{437} & \\frac{9 \\sqrt{874}}{437}\\end{matrix}\\right]   \\cdot \\left[\\begin{matrix}\\frac{3 \\sqrt{874}}{437}\\\\- \\frac{9 \\sqrt{874}}{437}\\\\- \\frac{17 \\sqrt{874}}{874}\\\\\\frac{15 \\sqrt{874}}{874}\\end{matrix}\\right]=\\left[\\begin{matrix}\\frac{376}{437}\\end{matrix}\\right]=\\left[\\begin{matrix}0.860411899313501\\end{matrix}\\right] $"
      ],
      "text/plain": [
       "<IPython.core.display.Latex object>"
      ]
     },
     "metadata": {},
     "output_type": "display_data"
    },
    {
     "data": {
      "text/latex": [
       "$ y_{3}= A^{-1} \\cdot x_{2} = \\left[\\begin{matrix}\\frac{2}{5} & - \\frac{1}{5} & - \\frac{3}{10} & - \\frac{1}{10}\\\\- \\frac{1}{5} & \\frac{3}{5} & \\frac{2}{5} & - \\frac{1}{5}\\\\- \\frac{3}{10} & \\frac{2}{5} & \\frac{17}{20} & - \\frac{1}{20}\\\\- \\frac{1}{10} & - \\frac{1}{5} & - \\frac{1}{20} & \\frac{13}{20}\\end{matrix}\\right] \\cdot \\left[\\begin{matrix}\\frac{3 \\sqrt{874}}{437}\\\\- \\frac{9 \\sqrt{874}}{437}\\\\- \\frac{17 \\sqrt{874}}{874}\\\\\\frac{15 \\sqrt{874}}{874}\\end{matrix}\\right] = \\left[\\begin{matrix}\\frac{24 \\sqrt{874}}{2185}\\\\- \\frac{109 \\sqrt{874}}{4370}\\\\- \\frac{121 \\sqrt{874}}{4370}\\\\\\frac{34 \\sqrt{874}}{2185}\\end{matrix}\\right]$"
      ],
      "text/plain": [
       "<IPython.core.display.Latex object>"
      ]
     },
     "metadata": {},
     "output_type": "display_data"
    },
    {
     "data": {
      "text/latex": [
       "$ x_{3}= \\dfrac{y_{3}}{||y_{3}||_{2}} = \\dfrac{y_{3}}{\\frac{\\sqrt{292353}}{437}} = \\left[\\begin{matrix}\\frac{8 \\sqrt{1338}}{1115}\\\\- \\frac{109 \\sqrt{1338}}{6690}\\\\- \\frac{121 \\sqrt{1338}}{6690}\\\\\\frac{34 \\sqrt{1338}}{3345}\\end{matrix}\\right] $"
      ],
      "text/plain": [
       "<IPython.core.display.Latex object>"
      ]
     },
     "metadata": {},
     "output_type": "display_data"
    },
    {
     "data": {
      "text/latex": [
       " Iteración número 4"
      ],
      "text/plain": [
       "<IPython.core.display.Latex object>"
      ]
     },
     "metadata": {},
     "output_type": "display_data"
    },
    {
     "data": {
      "text/latex": [
       "$ \\lambda_{3}= x_{3} ^{t} \\cdot A \\cdot x_{3} $"
      ],
      "text/plain": [
       "<IPython.core.display.Latex object>"
      ]
     },
     "metadata": {},
     "output_type": "display_data"
    },
    {
     "data": {
      "text/latex": [
       "$ \\lambda_{3}=\\left[\\begin{matrix}\\frac{8 \\sqrt{1338}}{1115} & - \\frac{109 \\sqrt{1338}}{6690} & - \\frac{121 \\sqrt{1338}}{6690} & \\frac{34 \\sqrt{1338}}{3345}\\end{matrix}\\right]   \\cdot \\left[\\begin{matrix}4 & 1 & 1 & 1\\\\1 & 3 & -1 & 1\\\\1 & -1 & 2 & 0\\\\1 & 1 & 0 & 2\\end{matrix}\\right] \\cdot \\left[\\begin{matrix}\\frac{8 \\sqrt{1338}}{1115}\\\\- \\frac{109 \\sqrt{1338}}{6690}\\\\- \\frac{121 \\sqrt{1338}}{6690}\\\\\\frac{34 \\sqrt{1338}}{3345}\\end{matrix}\\right] $"
      ],
      "text/plain": [
       "<IPython.core.display.Latex object>"
      ]
     },
     "metadata": {},
     "output_type": "display_data"
    },
    {
     "data": {
      "text/latex": [
       "$ \\lambda_{3}=\\left[\\begin{matrix}\\frac{\\sqrt{1338}}{223} & - \\frac{3 \\sqrt{1338}}{223} & - \\frac{17 \\sqrt{1338}}{1338} & \\frac{5 \\sqrt{1338}}{446}\\end{matrix}\\right]   \\cdot \\left[\\begin{matrix}\\frac{8 \\sqrt{1338}}{1115}\\\\- \\frac{109 \\sqrt{1338}}{6690}\\\\- \\frac{121 \\sqrt{1338}}{6690}\\\\\\frac{34 \\sqrt{1338}}{3345}\\end{matrix}\\right]=\\left[\\begin{matrix}\\frac{5327}{6690}\\end{matrix}\\right]=\\left[\\begin{matrix}0.79626307922272\\end{matrix}\\right] $"
      ],
      "text/plain": [
       "<IPython.core.display.Latex object>"
      ]
     },
     "metadata": {},
     "output_type": "display_data"
    },
    {
     "data": {
      "text/latex": [
       "$ y_{4}= A^{-1} \\cdot x_{3} = \\left[\\begin{matrix}\\frac{2}{5} & - \\frac{1}{5} & - \\frac{3}{10} & - \\frac{1}{10}\\\\- \\frac{1}{5} & \\frac{3}{5} & \\frac{2}{5} & - \\frac{1}{5}\\\\- \\frac{3}{10} & \\frac{2}{5} & \\frac{17}{20} & - \\frac{1}{20}\\\\- \\frac{1}{10} & - \\frac{1}{5} & - \\frac{1}{20} & \\frac{13}{20}\\end{matrix}\\right] \\cdot \\left[\\begin{matrix}\\frac{8 \\sqrt{1338}}{1115}\\\\- \\frac{109 \\sqrt{1338}}{6690}\\\\- \\frac{121 \\sqrt{1338}}{6690}\\\\\\frac{34 \\sqrt{1338}}{3345}\\end{matrix}\\right] = \\left[\\begin{matrix}\\frac{47 \\sqrt{1338}}{4460}\\\\- \\frac{137 \\sqrt{1338}}{6690}\\\\- \\frac{219 \\sqrt{1338}}{8920}\\\\\\frac{269 \\sqrt{1338}}{26760}\\end{matrix}\\right]$"
      ],
      "text/plain": [
       "<IPython.core.display.Latex object>"
      ]
     },
     "metadata": {},
     "output_type": "display_data"
    },
    {
     "data": {
      "text/latex": [
       "$ x_{4}= \\dfrac{y_{4}}{||y_{4}||_{2}} = \\dfrac{y_{4}}{\\frac{\\sqrt{295643811}}{13380}} = \\left[\\begin{matrix}\\frac{141 \\sqrt{883838}}{441919}\\\\- \\frac{274 \\sqrt{883838}}{441919}\\\\- \\frac{657 \\sqrt{883838}}{883838}\\\\\\frac{269 \\sqrt{883838}}{883838}\\end{matrix}\\right] $"
      ],
      "text/plain": [
       "<IPython.core.display.Latex object>"
      ]
     },
     "metadata": {},
     "output_type": "display_data"
    }
   ],
   "source": [
    "x=[x0]\n",
    "lamb = []\n",
    "y = [0]\n",
    "\n",
    "for i in range(0,4): \n",
    "    lamb.append(x[i].T * A* x[i])\n",
    "    display(Latex(' Iteración número '+str(i+1)))\n",
    "    display(Latex('$ \\lambda_{'+str(i)+'}= x_{'+str(i)+'} ^{t} \\cdot A \\cdot x_{'+str(i)+'} $'))\n",
    "    display(Latex('$ \\lambda_{'+str(i)+'}='+latex(x[i].T)+'   \\cdot ' +latex(A)+ ' \\cdot ' +latex(x[i])+ ' $'))\n",
    "    display(Latex('$ \\lambda_{'+str(i)+'}='+latex(x[i].T * A)+'   \\cdot ' +latex(x[i])+'='+latex(lamb[i])+'='+latex(N(lamb[i]))+' $'))\n",
    "    y.append((A**(-1) )* x[i])\n",
    "    display(Latex('$ y_{'+str(i+1)+'}= A^{-1} \\cdot x_{'+str(i)+'} = '+latex(A**-1) +' \\cdot '+latex(x[i])+' = '+latex(y[i+1])+'$'))\n",
    "    norm = sqrt(sum(matrix_multiply_elementwise(y[i+1].T, y[i+1].T)))\n",
    "    x.append(y[i+1]/norm)\n",
    "    display(Latex('$ x_{'+str(i+1)+'}= \\dfrac{y_{'+str(i+1)+'}}{||y_{'+str(i+1)+'}||_{2}} = \\dfrac{y_{'+str(i+1)+'}}{'+latex(norm)+'} = '+ latex(x[i+1]) +' $'))\n",
    "\n",
    "\n"
   ]
  }
 ],
 "metadata": {
  "kernelspec": {
   "display_name": "Python 3.8.10 64-bit",
   "language": "python",
   "name": "python3"
  },
  "language_info": {
   "codemirror_mode": {
    "name": "ipython",
    "version": 3
   },
   "file_extension": ".py",
   "mimetype": "text/x-python",
   "name": "python",
   "nbconvert_exporter": "python",
   "pygments_lexer": "ipython3",
   "version": "3.8.10"
  },
  "orig_nbformat": 4,
  "vscode": {
   "interpreter": {
    "hash": "916dbcbb3f70747c44a77c7bcd40155683ae19c65e1c03b4aa3499c5328201f1"
   }
  }
 },
 "nbformat": 4,
 "nbformat_minor": 2
}
