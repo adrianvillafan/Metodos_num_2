{
 "cells": [
  {
   "cell_type": "code",
   "execution_count": 119,
   "metadata": {},
   "outputs": [
    {
     "data": {
      "text/latex": [
       "Declaramos datos del ejercicio"
      ],
      "text/plain": [
       "<IPython.core.display.Latex object>"
      ]
     },
     "metadata": {},
     "output_type": "display_data"
    },
    {
     "data": {
      "text/latex": [
       "$\\displaystyle f{\\left(t,y \\right)} = - \\frac{2 y}{t + 200} + 1$"
      ],
      "text/plain": [
       "Eq(f(t, y), -2*y/(t + 200) + 1)"
      ]
     },
     "metadata": {},
     "output_type": "display_data"
    },
    {
     "data": {
      "text/latex": [
       "$\\displaystyle h = 6.25$"
      ],
      "text/plain": [
       "Eq(h, 6.25)"
      ]
     },
     "metadata": {},
     "output_type": "display_data"
    },
    {
     "data": {
      "text/latex": [
       "$\\displaystyle y_{0} = 50$"
      ],
      "text/plain": [
       "Eq(y0, 50)"
      ]
     },
     "metadata": {},
     "output_type": "display_data"
    },
    {
     "data": {
      "text/latex": [
       "$\\displaystyle t_{0} = 0$"
      ],
      "text/plain": [
       "Eq(t0, 0)"
      ]
     },
     "metadata": {},
     "output_type": "display_data"
    },
    {
     "data": {
      "text/latex": [
       "$\\displaystyle t_{f} = 100$"
      ],
      "text/plain": [
       "Eq(t_f, 100)"
      ]
     },
     "metadata": {},
     "output_type": "display_data"
    }
   ],
   "source": [
    "from IPython.display import display , Latex\n",
    "from sympy import *\n",
    "y , t  = symbols('y t')\n",
    "f = Function('f')\n",
    "f = 1-(2*y/(t+200)) #Valor de y'\n",
    "h = 100/16 #valor de h respecto a 100 minutos\n",
    "y0 = 50 #valor inicial de y\n",
    "t0 = 0 #valor inicial de t\n",
    "tf = 100 #valor final de t\n",
    "display(Latex('Declaramos datos del ejercicio'))\n",
    "display(Eq(S('f(t,y)'),f) , Eq(S('h'),h) , Eq(S('y0'),y0), Eq(S('t0'),t0), Eq(S('t_f'),tf))"
   ]
  },
  {
   "cell_type": "code",
   "execution_count": 120,
   "metadata": {},
   "outputs": [
    {
     "data": {
      "text/latex": [
       "Derivadas parciales de grado 1"
      ],
      "text/plain": [
       "<IPython.core.display.Latex object>"
      ]
     },
     "metadata": {},
     "output_type": "display_data"
    },
    {
     "data": {
      "text/latex": [
       "Forma:  $ \\quad f^{1}(t,y)= \\dfrac{\\partial \\:}{\\partial \\:t} f^{0}(t,y) + \\dfrac{\\partial \\:}{\\partial \\:y} f^{0}(t,y) \\dfrac{dy(t)}{dt}$"
      ],
      "text/plain": [
       "<IPython.core.display.Latex object>"
      ]
     },
     "metadata": {},
     "output_type": "display_data"
    },
    {
     "data": {
      "text/latex": [
       "$\\displaystyle f_{1} = \\left(- \\frac{2 y}{t + 200} + 1\\right) \\frac{\\partial}{\\partial y} \\left(- \\frac{2 y}{t + 200} + 1\\right) + \\frac{\\partial}{\\partial t} \\left(- \\frac{2 y}{t + 200} + 1\\right)$"
      ],
      "text/plain": [
       "Eq(f1, (-2*y/(t + 200) + 1)*Derivative(-2*y/(t + 200) + 1, y) + Derivative(-2*y/(t + 200) + 1, t))"
      ]
     },
     "metadata": {},
     "output_type": "display_data"
    },
    {
     "data": {
      "text/latex": [
       "$\\displaystyle f_{1} = \\frac{2 y}{\\left(t + 200\\right)^{2}} - \\frac{2 \\left(- \\frac{2 y}{t + 200} + 1\\right)}{t + 200}$"
      ],
      "text/plain": [
       "Eq(f1, 2*y/(t + 200)**2 - 2*(-2*y/(t + 200) + 1)/(t + 200))"
      ]
     },
     "metadata": {},
     "output_type": "display_data"
    },
    {
     "data": {
      "text/latex": [
       "$\\displaystyle f_{1} = \\frac{2 \\left(- t + 3 y - 200\\right)}{\\left(t + 200\\right)^{2}}$"
      ],
      "text/plain": [
       "Eq(f1, 2*(-t + 3*y - 200)/(t + 200)**2)"
      ]
     },
     "metadata": {},
     "output_type": "display_data"
    },
    {
     "data": {
      "text/latex": [
       "Derivadas parciales de grado 2"
      ],
      "text/plain": [
       "<IPython.core.display.Latex object>"
      ]
     },
     "metadata": {},
     "output_type": "display_data"
    },
    {
     "data": {
      "text/latex": [
       "Forma:  $ \\quad f^{2}(t,y)= \\dfrac{\\partial \\:}{\\partial \\:t} f^{1}(t,y) + \\dfrac{\\partial \\:}{\\partial \\:y} f^{1}(t,y) \\dfrac{dy(t)}{dt}$"
      ],
      "text/plain": [
       "<IPython.core.display.Latex object>"
      ]
     },
     "metadata": {},
     "output_type": "display_data"
    },
    {
     "data": {
      "text/latex": [
       "$\\displaystyle f_{2} = \\left(- \\frac{2 y}{t + 200} + 1\\right) \\frac{\\partial}{\\partial y} \\frac{2 \\left(- t + 3 y - 200\\right)}{\\left(t + 200\\right)^{2}} + \\frac{\\partial}{\\partial t} \\frac{2 \\left(- t + 3 y - 200\\right)}{\\left(t + 200\\right)^{2}}$"
      ],
      "text/plain": [
       "Eq(f2, (-2*y/(t + 200) + 1)*Derivative(2*(-t + 3*y - 200)/(t + 200)**2, y) + Derivative(2*(-t + 3*y - 200)/(t + 200)**2, t))"
      ]
     },
     "metadata": {},
     "output_type": "display_data"
    },
    {
     "data": {
      "text/latex": [
       "$\\displaystyle f_{2} = \\frac{6 \\left(- \\frac{2 y}{t + 200} + 1\\right)}{\\left(t + 200\\right)^{2}} - \\frac{2}{\\left(t + 200\\right)^{2}} - \\frac{4 \\left(- t + 3 y - 200\\right)}{\\left(t + 200\\right)^{3}}$"
      ],
      "text/plain": [
       "Eq(f2, 6*(-2*y/(t + 200) + 1)/(t + 200)**2 - 2/(t + 200)**2 - 4*(-t + 3*y - 200)/(t + 200)**3)"
      ]
     },
     "metadata": {},
     "output_type": "display_data"
    },
    {
     "data": {
      "text/latex": [
       "$\\displaystyle f_{2} = \\frac{8 \\left(t - 3 y + 200\\right)}{\\left(t + 200\\right)^{3}}$"
      ],
      "text/plain": [
       "Eq(f2, 8*(t - 3*y + 200)/(t + 200)**3)"
      ]
     },
     "metadata": {},
     "output_type": "display_data"
    },
    {
     "data": {
      "text/latex": [
       "Derivadas parciales de grado 3"
      ],
      "text/plain": [
       "<IPython.core.display.Latex object>"
      ]
     },
     "metadata": {},
     "output_type": "display_data"
    },
    {
     "data": {
      "text/latex": [
       "Forma:  $ \\quad f^{3}(t,y)= \\dfrac{\\partial \\:}{\\partial \\:t} f^{2}(t,y) + \\dfrac{\\partial \\:}{\\partial \\:y} f^{2}(t,y) \\dfrac{dy(t)}{dt}$"
      ],
      "text/plain": [
       "<IPython.core.display.Latex object>"
      ]
     },
     "metadata": {},
     "output_type": "display_data"
    },
    {
     "data": {
      "text/latex": [
       "$\\displaystyle f_{3} = \\left(- \\frac{2 y}{t + 200} + 1\\right) \\frac{\\partial}{\\partial y} \\frac{8 \\left(t - 3 y + 200\\right)}{\\left(t + 200\\right)^{3}} + \\frac{\\partial}{\\partial t} \\frac{8 \\left(t - 3 y + 200\\right)}{\\left(t + 200\\right)^{3}}$"
      ],
      "text/plain": [
       "Eq(f3, (-2*y/(t + 200) + 1)*Derivative(8*(t - 3*y + 200)/(t + 200)**3, y) + Derivative(8*(t - 3*y + 200)/(t + 200)**3, t))"
      ]
     },
     "metadata": {},
     "output_type": "display_data"
    },
    {
     "data": {
      "text/latex": [
       "$\\displaystyle f_{3} = - \\frac{24 \\left(- \\frac{2 y}{t + 200} + 1\\right)}{\\left(t + 200\\right)^{3}} + \\frac{8}{\\left(t + 200\\right)^{3}} - \\frac{24 \\left(t - 3 y + 200\\right)}{\\left(t + 200\\right)^{4}}$"
      ],
      "text/plain": [
       "Eq(f3, -24*(-2*y/(t + 200) + 1)/(t + 200)**3 + 8/(t + 200)**3 - 24*(t - 3*y + 200)/(t + 200)**4)"
      ]
     },
     "metadata": {},
     "output_type": "display_data"
    },
    {
     "data": {
      "text/latex": [
       "$\\displaystyle f_{3} = \\frac{40 \\left(- t + 3 y - 200\\right)}{\\left(t + 200\\right)^{4}}$"
      ],
      "text/plain": [
       "Eq(f3, 40*(-t + 3*y - 200)/(t + 200)**4)"
      ]
     },
     "metadata": {},
     "output_type": "display_data"
    }
   ],
   "source": [
    "fi=[f]\n",
    "for i in range(1,4):\n",
    "    r= str(i)\n",
    "    l = str(i-1)\n",
    "    display(Latex('Derivadas parciales de grado '+r))\n",
    "    display(Latex('Forma:  $ \\quad f^{'+r+'}(t,y)= \\dfrac{\\partial \\:}{\\partial \\:t} f^{'+l+'}(t,y) + \\dfrac{\\partial \\:}{\\partial \\:y} f^{'+l+'}(t,y) \\dfrac{dy(t)}{dt}$'))\n",
    "    a=Derivative(fi[i-1],t)\n",
    "    b=Derivative(fi[i-1],y)\n",
    "    display(Eq(S(\"f\"+r),S(a)+S(b)*f))\n",
    "    display(Eq(S(\"f\"+r),S(a.doit())+S(b.doit())*f))\n",
    "    res = a.doit()+(b.doit()*f)\n",
    "    display(Eq(S(\"f\"+r),simplify(res)))\n",
    "    fi.append(simplify(res))"
   ]
  },
  {
   "cell_type": "code",
   "execution_count": 121,
   "metadata": {},
   "outputs": [
    {
     "data": {
      "text/latex": [
       "Definimos los valores que tendrá $t_i$"
      ],
      "text/plain": [
       "<IPython.core.display.Latex object>"
      ]
     },
     "metadata": {},
     "output_type": "display_data"
    },
    {
     "data": {
      "text/latex": [
       "$\\displaystyle t_{0} = 0$"
      ],
      "text/plain": [
       "Eq(t0, 0)"
      ]
     },
     "metadata": {},
     "output_type": "display_data"
    },
    {
     "data": {
      "text/latex": [
       "$\\displaystyle t_{1} = 6.25$"
      ],
      "text/plain": [
       "Eq(t1, 6.25)"
      ]
     },
     "metadata": {},
     "output_type": "display_data"
    },
    {
     "data": {
      "text/latex": [
       "$\\displaystyle t_{2} = 12.5$"
      ],
      "text/plain": [
       "Eq(t2, 12.5)"
      ]
     },
     "metadata": {},
     "output_type": "display_data"
    },
    {
     "data": {
      "text/latex": [
       "$\\displaystyle t_{3} = 18.75$"
      ],
      "text/plain": [
       "Eq(t3, 18.75)"
      ]
     },
     "metadata": {},
     "output_type": "display_data"
    },
    {
     "data": {
      "text/latex": [
       "$\\displaystyle t_{4} = 25.0$"
      ],
      "text/plain": [
       "Eq(t4, 25.0)"
      ]
     },
     "metadata": {},
     "output_type": "display_data"
    },
    {
     "data": {
      "text/latex": [
       "$\\displaystyle t_{5} = 31.25$"
      ],
      "text/plain": [
       "Eq(t5, 31.25)"
      ]
     },
     "metadata": {},
     "output_type": "display_data"
    },
    {
     "data": {
      "text/latex": [
       "$\\displaystyle t_{6} = 37.5$"
      ],
      "text/plain": [
       "Eq(t6, 37.5)"
      ]
     },
     "metadata": {},
     "output_type": "display_data"
    },
    {
     "data": {
      "text/latex": [
       "$\\displaystyle t_{7} = 43.75$"
      ],
      "text/plain": [
       "Eq(t7, 43.75)"
      ]
     },
     "metadata": {},
     "output_type": "display_data"
    },
    {
     "data": {
      "text/latex": [
       "$\\displaystyle t_{8} = 50.0$"
      ],
      "text/plain": [
       "Eq(t8, 50.0)"
      ]
     },
     "metadata": {},
     "output_type": "display_data"
    },
    {
     "data": {
      "text/latex": [
       "$\\displaystyle t_{9} = 56.25$"
      ],
      "text/plain": [
       "Eq(t9, 56.25)"
      ]
     },
     "metadata": {},
     "output_type": "display_data"
    },
    {
     "data": {
      "text/latex": [
       "$\\displaystyle t_{10} = 62.5$"
      ],
      "text/plain": [
       "Eq(t10, 62.5)"
      ]
     },
     "metadata": {},
     "output_type": "display_data"
    },
    {
     "data": {
      "text/latex": [
       "$\\displaystyle t_{11} = 68.75$"
      ],
      "text/plain": [
       "Eq(t11, 68.75)"
      ]
     },
     "metadata": {},
     "output_type": "display_data"
    },
    {
     "data": {
      "text/latex": [
       "$\\displaystyle t_{12} = 75.0$"
      ],
      "text/plain": [
       "Eq(t12, 75.0)"
      ]
     },
     "metadata": {},
     "output_type": "display_data"
    },
    {
     "data": {
      "text/latex": [
       "$\\displaystyle t_{13} = 81.25$"
      ],
      "text/plain": [
       "Eq(t13, 81.25)"
      ]
     },
     "metadata": {},
     "output_type": "display_data"
    },
    {
     "data": {
      "text/latex": [
       "$\\displaystyle t_{14} = 87.5$"
      ],
      "text/plain": [
       "Eq(t14, 87.5)"
      ]
     },
     "metadata": {},
     "output_type": "display_data"
    },
    {
     "data": {
      "text/latex": [
       "$\\displaystyle t_{15} = 93.75$"
      ],
      "text/plain": [
       "Eq(t15, 93.75)"
      ]
     },
     "metadata": {},
     "output_type": "display_data"
    },
    {
     "data": {
      "text/latex": [
       "$\\displaystyle t_{16} = 100.0$"
      ],
      "text/plain": [
       "Eq(t16, 100.0)"
      ]
     },
     "metadata": {},
     "output_type": "display_data"
    }
   ],
   "source": [
    "ti=[t0]\n",
    "display(Latex('Definimos los valores que tendrá $t_i$'))\n",
    "ex=(tf/h)\n",
    "for i in range(0,int(ex)):\n",
    "      res = ti[i]+h\n",
    "      ti.append(res)\n",
    "      r= str(i)\n",
    "      s = str('t'+r)\n",
    "      display(Eq(S(s),ti[i]))\n",
    "jh= 't'+str(len(ti)-1)\n",
    "display(Eq(S(jh),ti[-1]))"
   ]
  },
  {
   "cell_type": "code",
   "execution_count": 122,
   "metadata": {},
   "outputs": [
    {
     "data": {
      "text/latex": [
       "Aplicamos la fórmula del Método de Taylor de orden 4"
      ],
      "text/plain": [
       "<IPython.core.display.Latex object>"
      ]
     },
     "metadata": {},
     "output_type": "display_data"
    },
    {
     "data": {
      "text/latex": [
       "$y_{1}=y_{0}+f(t_{0}, y_{0}) h+\\dfrac{f^{\\prime}(t_{0}, y_{0})}{2} h^2+\\dfrac{f^{\\prime \\prime}(t_{0}, y_{0} )}{6} h^3+\\dfrac{f^{\\prime \\prime \\prime}(t_{0}, y_{0})}{24} h^4$"
      ],
      "text/plain": [
       "<IPython.core.display.Latex object>"
      ]
     },
     "metadata": {},
     "output_type": "display_data"
    },
    {
     "data": {
      "text/latex": [
       "$\\displaystyle y_{1} = - \\frac{12.5 y}{t + 200} + 56.25 + \\frac{39.0625 \\left(- t + 3 y - 200\\right)}{\\left(t + 200\\right)^{2}} + \\frac{325.520833333333 \\left(t - 3 y + 200\\right)}{\\left(t + 200\\right)^{3}} + \\frac{2543.13151041667 \\left(- t + 3 y - 200\\right)}{\\left(t + 200\\right)^{4}}$"
      ],
      "text/plain": [
       "Eq(y1, -12.5*y/(t + 200) + 56.25 + 39.0625*(-t + 3*y - 200)/(t + 200)**2 + 325.520833333333*(t - 3*y + 200)/(t + 200)**3 + 2543.13151041667*(-t + 3*y - 200)/(t + 200)**4)"
      ]
     },
     "metadata": {},
     "output_type": "display_data"
    },
    {
     "data": {
      "text/latex": [
       "$\\displaystyle y_{1} = 53.0781269073486$"
      ],
      "text/plain": [
       "Eq(y1, 53.0781269073486)"
      ]
     },
     "metadata": {},
     "output_type": "display_data"
    },
    {
     "data": {
      "text/latex": [
       "$\\displaystyle y_{1} = 53.0781269073486$"
      ],
      "text/plain": [
       "Eq(y1, 53.0781269073486)"
      ]
     },
     "metadata": {},
     "output_type": "display_data"
    },
    {
     "data": {
      "text/latex": [
       "$y_{2}=y_{1}+f(t_{1}, y_{1}) h+\\dfrac{f^{\\prime}(t_{1}, y_{1})}{2} h^2+\\dfrac{f^{\\prime \\prime}(t_{1}, y_{1} )}{6} h^3+\\dfrac{f^{\\prime \\prime \\prime}(t_{1}, y_{1})}{24} h^4$"
      ],
      "text/plain": [
       "<IPython.core.display.Latex object>"
      ]
     },
     "metadata": {},
     "output_type": "display_data"
    },
    {
     "data": {
      "text/latex": [
       "$\\displaystyle y_{2} = - \\frac{12.5 y}{t + 200} + 59.3281269073486 + \\frac{39.0625 \\left(- t + 3 y - 200\\right)}{\\left(t + 200\\right)^{2}} + \\frac{325.520833333333 \\left(t - 3 y + 200\\right)}{\\left(t + 200\\right)^{3}} + \\frac{2543.13151041667 \\left(- t + 3 y - 200\\right)}{\\left(t + 200\\right)^{4}}$"
      ],
      "text/plain": [
       "Eq(y2, -12.5*y/(t + 200) + 59.3281269073486 + 39.0625*(-t + 3*y - 200)/(t + 200)**2 + 325.520833333333*(t - 3*y + 200)/(t + 200)**3 + 2543.13151041667*(-t + 3*y - 200)/(t + 200)**4)"
      ]
     },
     "metadata": {},
     "output_type": "display_data"
    },
    {
     "data": {
      "text/latex": [
       "$\\displaystyle y_{2} = 56.0697758242245$"
      ],
      "text/plain": [
       "Eq(y2, 56.0697758242245)"
      ]
     },
     "metadata": {},
     "output_type": "display_data"
    },
    {
     "data": {
      "text/latex": [
       "$\\displaystyle y_{2} = 56.0697758242245$"
      ],
      "text/plain": [
       "Eq(y2, 56.0697758242245)"
      ]
     },
     "metadata": {},
     "output_type": "display_data"
    },
    {
     "data": {
      "text/latex": [
       "$y_{3}=y_{2}+f(t_{2}, y_{2}) h+\\dfrac{f^{\\prime}(t_{2}, y_{2})}{2} h^2+\\dfrac{f^{\\prime \\prime}(t_{2}, y_{2} )}{6} h^3+\\dfrac{f^{\\prime \\prime \\prime}(t_{2}, y_{2})}{24} h^4$"
      ],
      "text/plain": [
       "<IPython.core.display.Latex object>"
      ]
     },
     "metadata": {},
     "output_type": "display_data"
    },
    {
     "data": {
      "text/latex": [
       "$\\displaystyle y_{3} = - \\frac{12.5 y}{t + 200} + 62.3197758242245 + \\frac{39.0625 \\left(- t + 3 y - 200\\right)}{\\left(t + 200\\right)^{2}} + \\frac{325.520833333333 \\left(t - 3 y + 200\\right)}{\\left(t + 200\\right)^{3}} + \\frac{2543.13151041667 \\left(- t + 3 y - 200\\right)}{\\left(t + 200\\right)^{4}}$"
      ],
      "text/plain": [
       "Eq(y3, -12.5*y/(t + 200) + 62.3197758242245 + 39.0625*(-t + 3*y - 200)/(t + 200)**2 + 325.520833333333*(t - 3*y + 200)/(t + 200)**3 + 2543.13151041667*(-t + 3*y - 200)/(t + 200)**4)"
      ]
     },
     "metadata": {},
     "output_type": "display_data"
    },
    {
     "data": {
      "text/latex": [
       "$\\displaystyle y_{3} = 58.9846872466522$"
      ],
      "text/plain": [
       "Eq(y3, 58.9846872466522)"
      ]
     },
     "metadata": {},
     "output_type": "display_data"
    },
    {
     "data": {
      "text/latex": [
       "$\\displaystyle y_{3} = 58.9846872466522$"
      ],
      "text/plain": [
       "Eq(y3, 58.9846872466522)"
      ]
     },
     "metadata": {},
     "output_type": "display_data"
    },
    {
     "data": {
      "text/latex": [
       "$y_{4}=y_{3}+f(t_{3}, y_{3}) h+\\dfrac{f^{\\prime}(t_{3}, y_{3})}{2} h^2+\\dfrac{f^{\\prime \\prime}(t_{3}, y_{3} )}{6} h^3+\\dfrac{f^{\\prime \\prime \\prime}(t_{3}, y_{3})}{24} h^4$"
      ],
      "text/plain": [
       "<IPython.core.display.Latex object>"
      ]
     },
     "metadata": {},
     "output_type": "display_data"
    },
    {
     "data": {
      "text/latex": [
       "$\\displaystyle y_{4} = - \\frac{12.5 y}{t + 200} + 65.2346872466522 + \\frac{39.0625 \\left(- t + 3 y - 200\\right)}{\\left(t + 200\\right)^{2}} + \\frac{325.520833333333 \\left(t - 3 y + 200\\right)}{\\left(t + 200\\right)^{3}} + \\frac{2543.13151041667 \\left(- t + 3 y - 200\\right)}{\\left(t + 200\\right)^{4}}$"
      ],
      "text/plain": [
       "Eq(y4, -12.5*y/(t + 200) + 65.2346872466522 + 39.0625*(-t + 3*y - 200)/(t + 200)**2 + 325.520833333333*(t - 3*y + 200)/(t + 200)**3 + 2543.13151041667*(-t + 3*y - 200)/(t + 200)**4)"
      ]
     },
     "metadata": {},
     "output_type": "display_data"
    },
    {
     "data": {
      "text/latex": [
       "$\\displaystyle y_{4} = 61.8312679123433$"
      ],
      "text/plain": [
       "Eq(y4, 61.8312679123433)"
      ]
     },
     "metadata": {},
     "output_type": "display_data"
    },
    {
     "data": {
      "text/latex": [
       "$\\displaystyle y_{4} = 61.8312679123433$"
      ],
      "text/plain": [
       "Eq(y4, 61.8312679123433)"
      ]
     },
     "metadata": {},
     "output_type": "display_data"
    },
    {
     "data": {
      "text/latex": [
       "$y_{5}=y_{4}+f(t_{4}, y_{4}) h+\\dfrac{f^{\\prime}(t_{4}, y_{4})}{2} h^2+\\dfrac{f^{\\prime \\prime}(t_{4}, y_{4} )}{6} h^3+\\dfrac{f^{\\prime \\prime \\prime}(t_{4}, y_{4})}{24} h^4$"
      ],
      "text/plain": [
       "<IPython.core.display.Latex object>"
      ]
     },
     "metadata": {},
     "output_type": "display_data"
    },
    {
     "data": {
      "text/latex": [
       "$\\displaystyle y_{5} = - \\frac{12.5 y}{t + 200} + 68.0812679123433 + \\frac{39.0625 \\left(- t + 3 y - 200\\right)}{\\left(t + 200\\right)^{2}} + \\frac{325.520833333333 \\left(t - 3 y + 200\\right)}{\\left(t + 200\\right)^{3}} + \\frac{2543.13151041667 \\left(- t + 3 y - 200\\right)}{\\left(t + 200\\right)^{4}}$"
      ],
      "text/plain": [
       "Eq(y5, -12.5*y/(t + 200) + 68.0812679123433 + 39.0625*(-t + 3*y - 200)/(t + 200)**2 + 325.520833333333*(t - 3*y + 200)/(t + 200)**3 + 2543.13151041667*(-t + 3*y - 200)/(t + 200)**4)"
      ]
     },
     "metadata": {},
     "output_type": "display_data"
    },
    {
     "data": {
      "text/latex": [
       "$\\displaystyle y_{5} = 64.6168041015478$"
      ],
      "text/plain": [
       "Eq(y5, 64.6168041015478)"
      ]
     },
     "metadata": {},
     "output_type": "display_data"
    },
    {
     "data": {
      "text/latex": [
       "$\\displaystyle y_{5} = 64.6168041015478$"
      ],
      "text/plain": [
       "Eq(y5, 64.6168041015478)"
      ]
     },
     "metadata": {},
     "output_type": "display_data"
    },
    {
     "data": {
      "text/latex": [
       "$y_{6}=y_{5}+f(t_{5}, y_{5}) h+\\dfrac{f^{\\prime}(t_{5}, y_{5})}{2} h^2+\\dfrac{f^{\\prime \\prime}(t_{5}, y_{5} )}{6} h^3+\\dfrac{f^{\\prime \\prime \\prime}(t_{5}, y_{5})}{24} h^4$"
      ],
      "text/plain": [
       "<IPython.core.display.Latex object>"
      ]
     },
     "metadata": {},
     "output_type": "display_data"
    },
    {
     "data": {
      "text/latex": [
       "$\\displaystyle y_{6} = - \\frac{12.5 y}{t + 200} + 70.8668041015478 + \\frac{39.0625 \\left(- t + 3 y - 200\\right)}{\\left(t + 200\\right)^{2}} + \\frac{325.520833333333 \\left(t - 3 y + 200\\right)}{\\left(t + 200\\right)^{3}} + \\frac{2543.13151041667 \\left(- t + 3 y - 200\\right)}{\\left(t + 200\\right)^{4}}$"
      ],
      "text/plain": [
       "Eq(y6, -12.5*y/(t + 200) + 70.8668041015478 + 39.0625*(-t + 3*y - 200)/(t + 200)**2 + 325.520833333333*(t - 3*y + 200)/(t + 200)**3 + 2543.13151041667*(-t + 3*y - 200)/(t + 200)**4)"
      ]
     },
     "metadata": {},
     "output_type": "display_data"
    },
    {
     "data": {
      "text/latex": [
       "$\\displaystyle y_{6} = 67.3476361761741$"
      ],
      "text/plain": [
       "Eq(y6, 67.3476361761741)"
      ]
     },
     "metadata": {},
     "output_type": "display_data"
    },
    {
     "data": {
      "text/latex": [
       "$\\displaystyle y_{6} = 67.3476361761741$"
      ],
      "text/plain": [
       "Eq(y6, 67.3476361761741)"
      ]
     },
     "metadata": {},
     "output_type": "display_data"
    },
    {
     "data": {
      "text/latex": [
       "$y_{7}=y_{6}+f(t_{6}, y_{6}) h+\\dfrac{f^{\\prime}(t_{6}, y_{6})}{2} h^2+\\dfrac{f^{\\prime \\prime}(t_{6}, y_{6} )}{6} h^3+\\dfrac{f^{\\prime \\prime \\prime}(t_{6}, y_{6})}{24} h^4$"
      ],
      "text/plain": [
       "<IPython.core.display.Latex object>"
      ]
     },
     "metadata": {},
     "output_type": "display_data"
    },
    {
     "data": {
      "text/latex": [
       "$\\displaystyle y_{7} = - \\frac{12.5 y}{t + 200} + 73.5976361761741 + \\frac{39.0625 \\left(- t + 3 y - 200\\right)}{\\left(t + 200\\right)^{2}} + \\frac{325.520833333333 \\left(t - 3 y + 200\\right)}{\\left(t + 200\\right)^{3}} + \\frac{2543.13151041667 \\left(- t + 3 y - 200\\right)}{\\left(t + 200\\right)^{4}}$"
      ],
      "text/plain": [
       "Eq(y7, -12.5*y/(t + 200) + 73.5976361761741 + 39.0625*(-t + 3*y - 200)/(t + 200)**2 + 325.520833333333*(t - 3*y + 200)/(t + 200)**3 + 2543.13151041667*(-t + 3*y - 200)/(t + 200)**4)"
      ]
     },
     "metadata": {},
     "output_type": "display_data"
    },
    {
     "data": {
      "text/latex": [
       "$\\displaystyle y_{7} = 70.0293022031763$"
      ],
      "text/plain": [
       "Eq(y7, 70.0293022031763)"
      ]
     },
     "metadata": {},
     "output_type": "display_data"
    },
    {
     "data": {
      "text/latex": [
       "$\\displaystyle y_{7} = 70.0293022031763$"
      ],
      "text/plain": [
       "Eq(y7, 70.0293022031763)"
      ]
     },
     "metadata": {},
     "output_type": "display_data"
    },
    {
     "data": {
      "text/latex": [
       "$y_{8}=y_{7}+f(t_{7}, y_{7}) h+\\dfrac{f^{\\prime}(t_{7}, y_{7})}{2} h^2+\\dfrac{f^{\\prime \\prime}(t_{7}, y_{7} )}{6} h^3+\\dfrac{f^{\\prime \\prime \\prime}(t_{7}, y_{7})}{24} h^4$"
      ],
      "text/plain": [
       "<IPython.core.display.Latex object>"
      ]
     },
     "metadata": {},
     "output_type": "display_data"
    },
    {
     "data": {
      "text/latex": [
       "$\\displaystyle y_{8} = - \\frac{12.5 y}{t + 200} + 76.2793022031763 + \\frac{39.0625 \\left(- t + 3 y - 200\\right)}{\\left(t + 200\\right)^{2}} + \\frac{325.520833333333 \\left(t - 3 y + 200\\right)}{\\left(t + 200\\right)^{3}} + \\frac{2543.13151041667 \\left(- t + 3 y - 200\\right)}{\\left(t + 200\\right)^{4}}$"
      ],
      "text/plain": [
       "Eq(y8, -12.5*y/(t + 200) + 76.2793022031763 + 39.0625*(-t + 3*y - 200)/(t + 200)**2 + 325.520833333333*(t - 3*y + 200)/(t + 200)**3 + 2543.13151041667*(-t + 3*y - 200)/(t + 200)**4)"
      ]
     },
     "metadata": {},
     "output_type": "display_data"
    },
    {
     "data": {
      "text/latex": [
       "$\\displaystyle y_{8} = 72.6666567657262$"
      ],
      "text/plain": [
       "Eq(y8, 72.6666567657262)"
      ]
     },
     "metadata": {},
     "output_type": "display_data"
    },
    {
     "data": {
      "text/latex": [
       "$\\displaystyle y_{8} = 72.6666567657262$"
      ],
      "text/plain": [
       "Eq(y8, 72.6666567657262)"
      ]
     },
     "metadata": {},
     "output_type": "display_data"
    },
    {
     "data": {
      "text/latex": [
       "$y_{9}=y_{8}+f(t_{8}, y_{8}) h+\\dfrac{f^{\\prime}(t_{8}, y_{8})}{2} h^2+\\dfrac{f^{\\prime \\prime}(t_{8}, y_{8} )}{6} h^3+\\dfrac{f^{\\prime \\prime \\prime}(t_{8}, y_{8})}{24} h^4$"
      ],
      "text/plain": [
       "<IPython.core.display.Latex object>"
      ]
     },
     "metadata": {},
     "output_type": "display_data"
    },
    {
     "data": {
      "text/latex": [
       "$\\displaystyle y_{9} = - \\frac{12.5 y}{t + 200} + 78.9166567657262 + \\frac{39.0625 \\left(- t + 3 y - 200\\right)}{\\left(t + 200\\right)^{2}} + \\frac{325.520833333333 \\left(t - 3 y + 200\\right)}{\\left(t + 200\\right)^{3}} + \\frac{2543.13151041667 \\left(- t + 3 y - 200\\right)}{\\left(t + 200\\right)^{4}}$"
      ],
      "text/plain": [
       "Eq(y9, -12.5*y/(t + 200) + 78.9166567657262 + 39.0625*(-t + 3*y - 200)/(t + 200)**2 + 325.520833333333*(t - 3*y + 200)/(t + 200)**3 + 2543.13151041667*(-t + 3*y - 200)/(t + 200)**4)"
      ]
     },
     "metadata": {},
     "output_type": "display_data"
    },
    {
     "data": {
      "text/latex": [
       "$\\displaystyle y_{9} = 75.2639697428084$"
      ],
      "text/plain": [
       "Eq(y9, 75.2639697428084)"
      ]
     },
     "metadata": {},
     "output_type": "display_data"
    },
    {
     "data": {
      "text/latex": [
       "$\\displaystyle y_{9} = 75.2639697428084$"
      ],
      "text/plain": [
       "Eq(y9, 75.2639697428084)"
      ]
     },
     "metadata": {},
     "output_type": "display_data"
    },
    {
     "data": {
      "text/latex": [
       "$y_{10}=y_{9}+f(t_{9}, y_{9}) h+\\dfrac{f^{\\prime}(t_{9}, y_{9})}{2} h^2+\\dfrac{f^{\\prime \\prime}(t_{9}, y_{9} )}{6} h^3+\\dfrac{f^{\\prime \\prime \\prime}(t_{9}, y_{9})}{24} h^4$"
      ],
      "text/plain": [
       "<IPython.core.display.Latex object>"
      ]
     },
     "metadata": {},
     "output_type": "display_data"
    },
    {
     "data": {
      "text/latex": [
       "$\\displaystyle y_{10} = - \\frac{12.5 y}{t + 200} + 81.5139697428084 + \\frac{39.0625 \\left(- t + 3 y - 200\\right)}{\\left(t + 200\\right)^{2}} + \\frac{325.520833333333 \\left(t - 3 y + 200\\right)}{\\left(t + 200\\right)^{3}} + \\frac{2543.13151041667 \\left(- t + 3 y - 200\\right)}{\\left(t + 200\\right)^{4}}$"
      ],
      "text/plain": [
       "Eq(y10, -12.5*y/(t + 200) + 81.5139697428084 + 39.0625*(-t + 3*y - 200)/(t + 200)**2 + 325.520833333333*(t - 3*y + 200)/(t + 200)**3 + 2543.13151041667*(-t + 3*y - 200)/(t + 200)**4)"
      ]
     },
     "metadata": {},
     "output_type": "display_data"
    },
    {
     "data": {
      "text/latex": [
       "$\\displaystyle y_{10} = 77.8250088260627$"
      ],
      "text/plain": [
       "Eq(y10, 77.8250088260627)"
      ]
     },
     "metadata": {},
     "output_type": "display_data"
    },
    {
     "data": {
      "text/latex": [
       "$\\displaystyle y_{10} = 77.8250088260627$"
      ],
      "text/plain": [
       "Eq(y10, 77.8250088260627)"
      ]
     },
     "metadata": {},
     "output_type": "display_data"
    },
    {
     "data": {
      "text/latex": [
       "$y_{11}=y_{10}+f(t_{10}, y_{10}) h+\\dfrac{f^{\\prime}(t_{10}, y_{10})}{2} h^2+\\dfrac{f^{\\prime \\prime}(t_{10}, y_{10} )}{6} h^3+\\dfrac{f^{\\prime \\prime \\prime}(t_{10}, y_{10})}{24} h^4$"
      ],
      "text/plain": [
       "<IPython.core.display.Latex object>"
      ]
     },
     "metadata": {},
     "output_type": "display_data"
    },
    {
     "data": {
      "text/latex": [
       "$\\displaystyle y_{11} = - \\frac{12.5 y}{t + 200} + 84.0750088260627 + \\frac{39.0625 \\left(- t + 3 y - 200\\right)}{\\left(t + 200\\right)^{2}} + \\frac{325.520833333333 \\left(t - 3 y + 200\\right)}{\\left(t + 200\\right)^{3}} + \\frac{2543.13151041667 \\left(- t + 3 y - 200\\right)}{\\left(t + 200\\right)^{4}}$"
      ],
      "text/plain": [
       "Eq(y11, -12.5*y/(t + 200) + 84.0750088260627 + 39.0625*(-t + 3*y - 200)/(t + 200)**2 + 325.520833333333*(t - 3*y + 200)/(t + 200)**3 + 2543.13151041667*(-t + 3*y - 200)/(t + 200)**4)"
      ]
     },
     "metadata": {},
     "output_type": "display_data"
    },
    {
     "data": {
      "text/latex": [
       "$\\displaystyle y_{11} = 80.3531087633503$"
      ],
      "text/plain": [
       "Eq(y11, 80.3531087633503)"
      ]
     },
     "metadata": {},
     "output_type": "display_data"
    },
    {
     "data": {
      "text/latex": [
       "$\\displaystyle y_{11} = 80.3531087633503$"
      ],
      "text/plain": [
       "Eq(y11, 80.3531087633503)"
      ]
     },
     "metadata": {},
     "output_type": "display_data"
    },
    {
     "data": {
      "text/latex": [
       "$y_{12}=y_{11}+f(t_{11}, y_{11}) h+\\dfrac{f^{\\prime}(t_{11}, y_{11})}{2} h^2+\\dfrac{f^{\\prime \\prime}(t_{11}, y_{11} )}{6} h^3+\\dfrac{f^{\\prime \\prime \\prime}(t_{11}, y_{11})}{24} h^4$"
      ],
      "text/plain": [
       "<IPython.core.display.Latex object>"
      ]
     },
     "metadata": {},
     "output_type": "display_data"
    },
    {
     "data": {
      "text/latex": [
       "$\\displaystyle y_{12} = - \\frac{12.5 y}{t + 200} + 86.6031087633503 + \\frac{39.0625 \\left(- t + 3 y - 200\\right)}{\\left(t + 200\\right)^{2}} + \\frac{325.520833333333 \\left(t - 3 y + 200\\right)}{\\left(t + 200\\right)^{3}} + \\frac{2543.13151041667 \\left(- t + 3 y - 200\\right)}{\\left(t + 200\\right)^{4}}$"
      ],
      "text/plain": [
       "Eq(y12, -12.5*y/(t + 200) + 86.6031087633503 + 39.0625*(-t + 3*y - 200)/(t + 200)**2 + 325.520833333333*(t - 3*y + 200)/(t + 200)**3 + 2543.13151041667*(-t + 3*y - 200)/(t + 200)**4)"
      ]
     },
     "metadata": {},
     "output_type": "display_data"
    },
    {
     "data": {
      "text/latex": [
       "$\\displaystyle y_{12} = 82.8512297142095$"
      ],
      "text/plain": [
       "Eq(y12, 82.8512297142095)"
      ]
     },
     "metadata": {},
     "output_type": "display_data"
    },
    {
     "data": {
      "text/latex": [
       "$\\displaystyle y_{12} = 82.8512297142095$"
      ],
      "text/plain": [
       "Eq(y12, 82.8512297142095)"
      ]
     },
     "metadata": {},
     "output_type": "display_data"
    },
    {
     "data": {
      "text/latex": [
       "$y_{13}=y_{12}+f(t_{12}, y_{12}) h+\\dfrac{f^{\\prime}(t_{12}, y_{12})}{2} h^2+\\dfrac{f^{\\prime \\prime}(t_{12}, y_{12} )}{6} h^3+\\dfrac{f^{\\prime \\prime \\prime}(t_{12}, y_{12})}{24} h^4$"
      ],
      "text/plain": [
       "<IPython.core.display.Latex object>"
      ]
     },
     "metadata": {},
     "output_type": "display_data"
    },
    {
     "data": {
      "text/latex": [
       "$\\displaystyle y_{13} = - \\frac{12.5 y}{t + 200} + 89.1012297142095 + \\frac{39.0625 \\left(- t + 3 y - 200\\right)}{\\left(t + 200\\right)^{2}} + \\frac{325.520833333333 \\left(t - 3 y + 200\\right)}{\\left(t + 200\\right)^{3}} + \\frac{2543.13151041667 \\left(- t + 3 y - 200\\right)}{\\left(t + 200\\right)^{4}}$"
      ],
      "text/plain": [
       "Eq(y13, -12.5*y/(t + 200) + 89.1012297142095 + 39.0625*(-t + 3*y - 200)/(t + 200)**2 + 325.520833333333*(t - 3*y + 200)/(t + 200)**3 + 2543.13151041667*(-t + 3*y - 200)/(t + 200)**4)"
      ]
     },
     "metadata": {},
     "output_type": "display_data"
    },
    {
     "data": {
      "text/latex": [
       "$\\displaystyle y_{13} = 85.3220066307955$"
      ],
      "text/plain": [
       "Eq(y13, 85.3220066307955)"
      ]
     },
     "metadata": {},
     "output_type": "display_data"
    },
    {
     "data": {
      "text/latex": [
       "$\\displaystyle y_{13} = 85.3220066307955$"
      ],
      "text/plain": [
       "Eq(y13, 85.3220066307955)"
      ]
     },
     "metadata": {},
     "output_type": "display_data"
    },
    {
     "data": {
      "text/latex": [
       "$y_{14}=y_{13}+f(t_{13}, y_{13}) h+\\dfrac{f^{\\prime}(t_{13}, y_{13})}{2} h^2+\\dfrac{f^{\\prime \\prime}(t_{13}, y_{13} )}{6} h^3+\\dfrac{f^{\\prime \\prime \\prime}(t_{13}, y_{13})}{24} h^4$"
      ],
      "text/plain": [
       "<IPython.core.display.Latex object>"
      ]
     },
     "metadata": {},
     "output_type": "display_data"
    },
    {
     "data": {
      "text/latex": [
       "$\\displaystyle y_{14} = - \\frac{12.5 y}{t + 200} + 91.5720066307955 + \\frac{39.0625 \\left(- t + 3 y - 200\\right)}{\\left(t + 200\\right)^{2}} + \\frac{325.520833333333 \\left(t - 3 y + 200\\right)}{\\left(t + 200\\right)^{3}} + \\frac{2543.13151041667 \\left(- t + 3 y - 200\\right)}{\\left(t + 200\\right)^{4}}$"
      ],
      "text/plain": [
       "Eq(y14, -12.5*y/(t + 200) + 91.5720066307955 + 39.0625*(-t + 3*y - 200)/(t + 200)**2 + 325.520833333333*(t - 3*y + 200)/(t + 200)**3 + 2543.13151041667*(-t + 3*y - 200)/(t + 200)**4)"
      ]
     },
     "metadata": {},
     "output_type": "display_data"
    },
    {
     "data": {
      "text/latex": [
       "$\\displaystyle y_{14} = 87.7677912076977$"
      ],
      "text/plain": [
       "Eq(y14, 87.7677912076977)"
      ]
     },
     "metadata": {},
     "output_type": "display_data"
    },
    {
     "data": {
      "text/latex": [
       "$\\displaystyle y_{14} = 87.7677912076977$"
      ],
      "text/plain": [
       "Eq(y14, 87.7677912076977)"
      ]
     },
     "metadata": {},
     "output_type": "display_data"
    },
    {
     "data": {
      "text/latex": [
       "$y_{15}=y_{14}+f(t_{14}, y_{14}) h+\\dfrac{f^{\\prime}(t_{14}, y_{14})}{2} h^2+\\dfrac{f^{\\prime \\prime}(t_{14}, y_{14} )}{6} h^3+\\dfrac{f^{\\prime \\prime \\prime}(t_{14}, y_{14})}{24} h^4$"
      ],
      "text/plain": [
       "<IPython.core.display.Latex object>"
      ]
     },
     "metadata": {},
     "output_type": "display_data"
    },
    {
     "data": {
      "text/latex": [
       "$\\displaystyle y_{15} = - \\frac{12.5 y}{t + 200} + 94.0177912076977 + \\frac{39.0625 \\left(- t + 3 y - 200\\right)}{\\left(t + 200\\right)^{2}} + \\frac{325.520833333333 \\left(t - 3 y + 200\\right)}{\\left(t + 200\\right)^{3}} + \\frac{2543.13151041667 \\left(- t + 3 y - 200\\right)}{\\left(t + 200\\right)^{4}}$"
      ],
      "text/plain": [
       "Eq(y15, -12.5*y/(t + 200) + 94.0177912076977 + 39.0625*(-t + 3*y - 200)/(t + 200)**2 + 325.520833333333*(t - 3*y + 200)/(t + 200)**3 + 2543.13151041667*(-t + 3*y - 200)/(t + 200)**4)"
      ]
     },
     "metadata": {},
     "output_type": "display_data"
    },
    {
     "data": {
      "text/latex": [
       "$\\displaystyle y_{15} = 90.1906876517145$"
      ],
      "text/plain": [
       "Eq(y15, 90.1906876517145)"
      ]
     },
     "metadata": {},
     "output_type": "display_data"
    },
    {
     "data": {
      "text/latex": [
       "$\\displaystyle y_{15} = 90.1906876517145$"
      ],
      "text/plain": [
       "Eq(y15, 90.1906876517145)"
      ]
     },
     "metadata": {},
     "output_type": "display_data"
    },
    {
     "data": {
      "text/latex": [
       "$y_{16}=y_{15}+f(t_{15}, y_{15}) h+\\dfrac{f^{\\prime}(t_{15}, y_{15})}{2} h^2+\\dfrac{f^{\\prime \\prime}(t_{15}, y_{15} )}{6} h^3+\\dfrac{f^{\\prime \\prime \\prime}(t_{15}, y_{15})}{24} h^4$"
      ],
      "text/plain": [
       "<IPython.core.display.Latex object>"
      ]
     },
     "metadata": {},
     "output_type": "display_data"
    },
    {
     "data": {
      "text/latex": [
       "$\\displaystyle y_{16} = - \\frac{12.5 y}{t + 200} + 96.4406876517145 + \\frac{39.0625 \\left(- t + 3 y - 200\\right)}{\\left(t + 200\\right)^{2}} + \\frac{325.520833333333 \\left(t - 3 y + 200\\right)}{\\left(t + 200\\right)^{3}} + \\frac{2543.13151041667 \\left(- t + 3 y - 200\\right)}{\\left(t + 200\\right)^{4}}$"
      ],
      "text/plain": [
       "Eq(y16, -12.5*y/(t + 200) + 96.4406876517145 + 39.0625*(-t + 3*y - 200)/(t + 200)**2 + 325.520833333333*(t - 3*y + 200)/(t + 200)**3 + 2543.13151041667*(-t + 3*y - 200)/(t + 200)**4)"
      ]
     },
     "metadata": {},
     "output_type": "display_data"
    },
    {
     "data": {
      "text/latex": [
       "$\\displaystyle y_{16} = 92.5925832906097$"
      ],
      "text/plain": [
       "Eq(y16, 92.5925832906097)"
      ]
     },
     "metadata": {},
     "output_type": "display_data"
    },
    {
     "data": {
      "text/latex": [
       "$\\displaystyle y_{16} = 92.5925832906097$"
      ],
      "text/plain": [
       "Eq(y16, 92.5925832906097)"
      ]
     },
     "metadata": {},
     "output_type": "display_data"
    }
   ],
   "source": [
    "yi = [y0]\n",
    "display(Latex('Aplicamos la fórmula del Método de Taylor de orden 4'))\n",
    "for i in range(0,len(ti)-1):\n",
    "    r = str(i)\n",
    "    l = str(i+1)\n",
    "    display(Latex('$y_{'+l+'}=y_{'+r+'}+f(t_{'+r+'}, y_{'+r+'}) h+\\dfrac{f^{\\prime}(t_{'+r+'}, y_{'+r+'})}{2} h^2+\\dfrac{f^{\\prime \\prime}(t_{'+r+'}, y_{'+r+'} )}{6} h^3+\\dfrac{f^{\\prime \\prime \\prime}(t_{'+r+'}, y_{'+r+'})}{24} h^4$'))\n",
    "    yix = yi[i] + (fi[0]*h) + (fi[1]*(h**2)/2) + (fi[2]*(h**3)/6)+ (fi[3]*(h**4)/24)\n",
    "    display(Eq(S(\"y\"+l),yix))\n",
    "    res = yix.subs(t, ti[i]).subs(y, yi[i]).subs(h, h)\n",
    "    display(Eq(S(\"y\"+l),res))\n",
    "    display(Eq(S(\"y\"+l),res.evalf()))\n",
    "    yi.append(res)"
   ]
  },
  {
   "cell_type": "code",
   "execution_count": 123,
   "metadata": {},
   "outputs": [
    {
     "data": {
      "image/png": "[encoded data removed]",
      "text/plain": [
       "<Figure size 640x480 with 1 Axes>"
      ]
     },
     "metadata": {},
     "output_type": "display_data"
    }
   ],
   "source": [
    "from numpy import *\n",
    "import matplotlib.pyplot as plt\n",
    "\n",
    "x = array(yi)\n",
    "y = sort(ti)\n",
    "\n",
    "plt.xlabel('Sal en contenedor (kg)')\n",
    "plt.ylabel('Tiempo(min)')\n",
    "plt.title(\"Concentración de sal en contenedor (Taylor)\")\n",
    "plt.grid(True)\n",
    "plt.plot(x, y, 'o--')\n",
    "\n",
    "plt.show()"
   ]
  }
 ],
 "metadata": {
  "kernelspec": {
   "display_name": "Python 3.8.10 64-bit",
   "language": "python",
   "name": "python3"
  },
  "language_info": {
   "codemirror_mode": {
    "name": "ipython",
    "version": 3
   },
   "file_extension": ".py",
   "mimetype": "text/x-python",
   "name": "python",
   "nbconvert_exporter": "python",
   "pygments_lexer": "ipython3",
   "version": "3.8.10"
  },
  "orig_nbformat": 4,
  "vscode": {
   "interpreter": {
    "hash": "916dbcbb3f70747c44a77c7bcd40155683ae19c65e1c03b4aa3499c5328201f1"
   }
  }
 },
 "nbformat": 4,
 "nbformat_minor": 2
}
